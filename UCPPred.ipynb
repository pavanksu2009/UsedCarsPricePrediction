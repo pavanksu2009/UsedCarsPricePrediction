{
 "cells": [
  {
   "cell_type": "code",
   "execution_count": 1,
   "metadata": {},
   "outputs": [],
   "source": [
    "# import necessary libraries\n",
    "import os\n",
    "import numpy as np\n",
    "import pandas as pd\n",
    "import matplotlib.pyplot as plt\n",
    "import seaborn as sns\n",
    "from sklearn import preprocessing\n",
    "from sklearn.model_selection import train_test_split\n",
    "from sklearn.metrics import accuracy_score, confusion_matrix, classification_report\n",
    "from sklearn.ensemble import RandomForestClassifier\n",
    "from sklearn.model_selection import GridSearchCV\n",
    "from sklearn.model_selection import RandomizedSearchCV\n",
    "from sklearn.model_selection import cross_val_score\n",
    "import joblib\n",
    "import warnings\n",
    "warnings.filterwarnings(\"ignore\")"
   ]
  },
  {
   "cell_type": "code",
   "execution_count": 2,
   "metadata": {},
   "outputs": [],
   "source": [
    "# create train_src_dir and test_src_dir directories to store train and test data respectively \n",
    "train_src_dir = '../UsedCarsPricePrediction/train'\n",
    "test_src_dir = '../UsedCarsPricePrediction/test'\n",
    "# create train and test directories if they don't exist already \n",
    "if not os.path.exists(train_src_dir):\n",
    "    os.mkdir(train_src_dir)\n",
    "    os.mkdir(test_src_dir)"
   ]
  },
  {
   "cell_type": "code",
   "execution_count": 3,
   "metadata": {},
   "outputs": [
    {
     "name": "stdout",
     "output_type": "stream",
     "text": [
      "Overwriting ../UsedCarsPricePrediction/train/pre_process.py\n"
     ]
    }
   ],
   "source": [
    "%%writefile {train_src_dir}/pre_process.py\n",
    "import os\n",
    "import pandas as pd\n",
    "\n",
    "from sklearn.preprocessing import StandardScaler, OneHotEncoder\n",
    "from sklearn.compose import make_column_transformer\n",
    "\n",
    "from sklearn.model_selection import train_test_split\n",
    "\n",
    "\n",
    "# input_data_path for used_cars.csv from local machine \n",
    "input_data_path = '../UsedCarsPricePrediction/train/used_cars.csv'\n",
    "used_cars = pd.read_csv(input_data_path)\n",
    "\n",
    "target = 'price'\n",
    "numeric_features = ['Kilometers_Driven', 'Mileage', 'Engine','Power','Seats']\n",
    "categorical_features = ['Segment']\n",
    "\n",
    "# X for used_cars.csv from local machine \n",
    "X = used_cars.drop(columns=[target])\n",
    "y = used_cars[target]\n",
    "\n",
    "# split the data into train and test sets\n",
    "Xtrain, Xtest, ytrain, ytest = train_test_split(X, y,\n",
    "                                                test_size=0.2,\n",
    "                                                random_state=42)\n",
    "\n",
    "# split the train data into train and validation sets\n",
    "Xtrain, Xval, ytrain, yval = train_test_split(Xtrain, ytrain,\n",
    "                                              test_size=0.2,\n",
    "                                              random_state=42)\n",
    "\n",
    "# create a preprocessor object to preprocess the data\n",
    "preprocessor = make_column_transformer(\n",
    "    (StandardScaler(), numeric_features),\n",
    "    (OneHotEncoder(handle_unknown='ignore', \n",
    "                   sparse=False), categorical_features)\n",
    ")\n",
    "\n",
    "transformed_Xtrain = preprocessor.fit_transform(Xtrain)\n",
    "transformed_Xval = preprocessor.transform(Xval)\n",
    "transformed_Xtest = preprocessor.transform(Xtest)\n",
    "\n",
    "# train_features_output_path for used_cars.csv from local machine\n",
    "train_features_output_path = os.path.join(\"../UsedCarsPricePrediction/train\", \"train_features.csv\")\n",
    "# train_labels_output_path for used_cars.csv from local machine\n",
    "train_labels_output_path = os.path.join(\"../UsedCarsPricePrediction/train\", \"train_labels.csv\")\n",
    "\n",
    "# validation set for used_cars.csv from local machine\n",
    "val_features_output_path = os.path.join(\"../UsedCarsPricePrediction/train\", \"val_features.csv\")\n",
    "val_labels_output_path = os.path.join(\"../UsedCarsPricePrediction/train\", \"val_labels.csv\")\n",
    "\n",
    "# test_features_output_path for used_cars.csv from local machine\n",
    "test_features_output_path = os.path.join(\"../UsedCarsPricePrediction/test\", \"test_features.csv\")\n",
    "# test_labels_output_path for used_cars.csv from local machine\n",
    "test_labels_output_path = os.path.join(\"../UsedCarsPricePrediction/test\", \"test_labels.csv\")\n",
    "\n",
    "# save the validation set to csv file \n",
    "pd.DataFrame(transformed_Xval).to_csv(val_features_output_path, \n",
    "                                       header=False, index=False)\n",
    "pd.DataFrame(transformed_Xtrain).to_csv(train_features_output_path, \n",
    "                                        header=False, index=False)\n",
    "pd.DataFrame(transformed_Xtest).to_csv(test_features_output_path, \n",
    "                                       header=False, index=False)\n",
    "\n",
    "ytrain.to_csv(train_labels_output_path, header=False, index=False)\n",
    "yval.to_csv(val_labels_output_path, header=False, index=False)\n",
    "ytest.to_csv(test_labels_output_path, header=False, index=False)"
   ]
  },
  {
   "cell_type": "code",
   "execution_count": 4,
   "metadata": {},
   "outputs": [],
   "source": [
    "# run the pre_process.py file to preprocess the data \n",
    "!python {train_src_dir}/pre_process.py"
   ]
  },
  {
   "cell_type": "code",
   "execution_count": 5,
   "metadata": {},
   "outputs": [
    {
     "name": "stdout",
     "output_type": "stream",
     "text": [
      "Overwriting ../UsedCarsPricePrediction/train/model_lr.py\n"
     ]
    }
   ],
   "source": [
    "%%writefile {train_src_dir}/model_lr.py\n",
    "import os\n",
    "import joblib\n",
    "\n",
    "import pandas as pd\n",
    "\n",
    "from sklearn.linear_model import LinearRegression\n",
    "from sklearn.metrics import mean_squared_error\n",
    "\n",
    "\n",
    "# training_data_directory for used_cars.csv from local machine\n",
    "training_data_directory = \"../UsedCarsPricePrediction/train\"\n",
    "# validation_data_directory for used_cars.csv from local machine\n",
    "validation_data_directory = \"../UsedCarsPricePrediction/train\"\n",
    "# test_data_directory for used_cars.csv from local machine\n",
    "test_data_directory = \"../UsedCarsPricePrediction/test\"\n",
    "\n",
    "train_features_data = os.path.join(training_data_directory, \"train_features.csv\") # this\n",
    "train_labels_data = os.path.join(training_data_directory, \"train_labels.csv\")\n",
    "\n",
    "val_features_data = os.path.join(validation_data_directory, \"val_features.csv\")\n",
    "val_labels_data = os.path.join(validation_data_directory, \"val_labels.csv\")\n",
    "\n",
    "test_features_data = os.path.join(test_data_directory, \"test_features.csv\")\n",
    "test_labels_data = os.path.join(test_data_directory, \"test_labels.csv\")\n",
    "\n",
    "X_train = pd.read_csv(train_features_data, header=None)\n",
    "y_train = pd.read_csv(train_labels_data, header=None)\n",
    "\n",
    "model_lr = LinearRegression()\n",
    "\n",
    "model_lr.fit(X_train, y_train)\n",
    "\n",
    "# X_test = pd.read_csv(test_features_data, header=None)\n",
    "X_val = pd.read_csv(val_features_data, header=None)\n",
    "y_val = pd.read_csv(val_labels_data, header=None)\n",
    "\n",
    "y_pred_val = model_lr.predict(X_val)\n",
    "\n",
    "# print(f\"RMSE: {mean_squared_error(y_test, y_pred, squared=False)};\")\n",
    "print(f\"RMSE: {mean_squared_error(y_val, y_pred_val, squared=False)};\")\n",
    "# print accuracy score on the training and validation sets\n",
    "print(f\"Training Accuracy: {model_lr.score(X_train, y_train)}\")\n",
    "print(f\"Validation Accuracy: {model_lr.score(X_val, y_val)}\")\n",
    "\n",
    "# model_output_directory for used_cars.csv from local machine\n",
    "model_output_directory = os.path.join(\"../UsedCarsPricePrediction/model\", \"model_lr.joblib\")\n",
    "\n",
    "print(f\"Saving model to {model_output_directory}\")\n",
    "joblib.dump(model_lr, model_output_directory)"
   ]
  },
  {
   "cell_type": "code",
   "execution_count": 6,
   "metadata": {},
   "outputs": [
    {
     "name": "stdout",
     "output_type": "stream",
     "text": [
      "RMSE: 19.3793577173483;\n",
      "Training Accuracy: 0.7648688620886591\n",
      "Validation Accuracy: 0.7636768057374047\n",
      "Saving model to ../UsedCarsPricePrediction/model\\model_lr.joblib\n"
     ]
    }
   ],
   "source": [
    "# run the model_lr.py file to train the model\n",
    "!python {train_src_dir}/model_lr.py"
   ]
  },
  {
   "cell_type": "code",
   "execution_count": 7,
   "metadata": {},
   "outputs": [
    {
     "name": "stdout",
     "output_type": "stream",
     "text": [
      "Overwriting ../UsedCarsPricePrediction/train/evaluation_lr.py\n"
     ]
    }
   ],
   "source": [
    "%%writefile {train_src_dir}/evaluation_lr.py\n",
    "import os\n",
    "import json\n",
    "import joblib\n",
    "\n",
    "import pandas as pd\n",
    "\n",
    "from sklearn.metrics import mean_squared_error, r2_score\n",
    "\n",
    "# model_path for used_cars.csv from local machine\n",
    "model_path = f\"../UsedCarsPricePrediction/model/model_lr.joblib\"\n",
    "model = joblib.load(model_path)\n",
    "\n",
    "print(\"Loading test input data\")\n",
    "# test_data_directory for used_cars.csv from local machine\n",
    "test_data_directory = \"../UsedCarsPricePrediction/test\"\n",
    "test_features_data = os.path.join(test_data_directory, \"test_features.csv\")\n",
    "test_labels_data = os.path.join(test_data_directory, \"test_labels.csv\")\n",
    "\n",
    "X_test = pd.read_csv(test_features_data, header=None)\n",
    "y_test = pd.read_csv(test_labels_data, header=None)\n",
    "\n",
    "y_pred = model.predict(X_test)\n",
    "\n",
    "print(f\"RMSE: {mean_squared_error(y_test, y_pred, squared=False)};\")\n",
    "print(f\"R2: {r2_score(y_test, y_pred)};\")\n",
    "\n",
    "report_dict = {\n",
    "        \"regression_metrics\": {\n",
    "                \"mse\": {\n",
    "                        \"value\": mean_squared_error(y_test, y_pred)\n",
    "                },\n",
    "                \"rmse\": {\n",
    "                        \"value\": mean_squared_error(y_test, y_pred, squared=False)\n",
    "                },\n",
    "                \"r2\": {\n",
    "                        \"value\": r2_score(y_test, y_pred)\n",
    "                }\n",
    "        }\n",
    "}\n",
    "\n",
    "# evaluation_output_path for used_cars.csv from local machine\n",
    "evaluation_output_path = os.path.join(\"../UsedCarsPricePrediction/evaluation\", \"evaluation_lr.json\")\n",
    "\n",
    "with open(evaluation_output_path, \"w\") as f:\n",
    "      f.write(json.dumps(report_dict))"
   ]
  },
  {
   "cell_type": "code",
   "execution_count": 8,
   "metadata": {},
   "outputs": [
    {
     "name": "stdout",
     "output_type": "stream",
     "text": [
      "Loading test input data\n",
      "RMSE: 11.82246417300771;\n",
      "R2: 0.8312221874592235;\n"
     ]
    }
   ],
   "source": [
    "# run the evaluation_lr.py file to evaluate the model\n",
    "!python {train_src_dir}/evaluation_lr.py"
   ]
  },
  {
   "cell_type": "code",
   "execution_count": 11,
   "metadata": {},
   "outputs": [
    {
     "name": "stdout",
     "output_type": "stream",
     "text": [
      "Overwriting ../UsedCarsPricePrediction/train/model_dtr.py\n"
     ]
    }
   ],
   "source": [
    "%%writefile {train_src_dir}/model_dtr.py\n",
    "import os\n",
    "import joblib\n",
    "\n",
    "import pandas as pd\n",
    "\n",
    "from sklearn.tree import DecisionTreeRegressor\n",
    "from sklearn.metrics import mean_squared_error \n",
    "\n",
    "\n",
    "# training_data_directory for used_cars.csv from local machine\n",
    "training_data_directory = \"../UsedCarsPricePrediction/train\"\n",
    "# validation_data_directory for used_cars.csv from local machine\n",
    "validation_data_directory = \"../UsedCarsPricePrediction/train\"\n",
    "# test_data_directory for used_cars.csv from local machine\n",
    "test_data_directory = \"../UsedCarsPricePrediction/test\"\n",
    "\n",
    "train_features_data = os.path.join(training_data_directory, \"train_features.csv\") # this \n",
    "train_labels_data = os.path.join(training_data_directory, \"train_labels.csv\")\n",
    "\n",
    "val_features_data = os.path.join(validation_data_directory, \"val_features.csv\")\n",
    "val_labels_data = os.path.join(validation_data_directory, \"val_labels.csv\")\n",
    "\n",
    "test_features_data = os.path.join(test_data_directory, \"test_features.csv\")\n",
    "test_labels_data = os.path.join(test_data_directory, \"test_labels.csv\")\n",
    "\n",
    "X_train = pd.read_csv(train_features_data, header=None)\n",
    "y_train = pd.read_csv(train_labels_data, header=None)\n",
    "\n",
    "model_dt = DecisionTreeRegressor()\n",
    "\n",
    "model_dt.fit(X_train, y_train)\n",
    "\n",
    "# X_test = pd.read_csv(test_features_data, header=None)\n",
    "X_val = pd.read_csv(val_features_data, header=None)\n",
    "y_val = pd.read_csv(val_labels_data, header=None)\n",
    "\n",
    "y_pred_val = model_dt.predict(X_val)\n",
    "\n",
    "# print(f\"RMSE: {mean_squared_error(y_test, y_pred, squared=False)};\")\n",
    "print(f\"RMSE: {mean_squared_error(y_val, y_pred_val, squared=False)};\")\n",
    "# print accuracy score on the training and validation sets \n",
    "print(f\"Training Accuracy: {model_dt.score(X_train, y_train)}\")\n",
    "print(f\"Validation Accuracy: {model_dt.score(X_val, y_val)}\")\n",
    "\n",
    "# model_output_directory for used_cars.csv from local machine\n",
    "model_output_directory = os.path.join(\"../UsedCarsPricePrediction/model\", \"model_dtr.joblib\")\n",
    "\n",
    "print(f\"Saving model to {model_output_directory}\")\n",
    "joblib.dump(model_dt, model_output_directory)"
   ]
  },
  {
   "cell_type": "code",
   "execution_count": 12,
   "metadata": {},
   "outputs": [
    {
     "name": "stdout",
     "output_type": "stream",
     "text": [
      "RMSE: 22.525434859842328;\n",
      "Training Accuracy: 1.0\n",
      "Validation Accuracy: 0.6807183513072823\n",
      "Saving model to ../UsedCarsPricePrediction/model\\model_dtr.joblib\n"
     ]
    }
   ],
   "source": [
    "# run the model_dtr.py file to train the model\n",
    "!python {train_src_dir}/model_dtr.py"
   ]
  },
  {
   "cell_type": "code",
   "execution_count": 15,
   "metadata": {},
   "outputs": [
    {
     "name": "stdout",
     "output_type": "stream",
     "text": [
      "Overwriting ../UsedCarsPricePrediction/train/evaluation_dtr.py\n"
     ]
    }
   ],
   "source": [
    "%%writefile {train_src_dir}/evaluation_dtr.py\n",
    "import os\n",
    "import json\n",
    "import joblib\n",
    "import tarfile\n",
    "\n",
    "import pandas as pd\n",
    "\n",
    "from sklearn.metrics import mean_squared_error, r2_score\n",
    "\n",
    "# model_path for used_cars.csv from local machine\n",
    "model_path = f\"../UsedCarsPricePrediction/model/model_dtr.joblib\"\n",
    "model = joblib.load(model_path)\n",
    "\n",
    "print(\"Loading test input data\")\n",
    "# test_data_directory for used_cars.csv from local machine\n",
    "test_data_directory = \"../UsedCarsPricePrediction/test\"\n",
    "test_features_data = os.path.join(test_data_directory, \"test_features.csv\")\n",
    "test_labels_data = os.path.join(test_data_directory, \"test_labels.csv\")\n",
    "\n",
    "X_test = pd.read_csv(test_features_data, header=None)\n",
    "y_test = pd.read_csv(test_labels_data, header=None)\n",
    "\n",
    "y_pred = model.predict(X_test)\n",
    "\n",
    "print(f\"RMSE: {mean_squared_error(y_test, y_pred, squared=False)};\")\n",
    "print(f\"R2: {r2_score(y_test, y_pred)};\")\n",
    "\n",
    "report_dict = {\n",
    "        \"regression_metrics\": {\n",
    "                \"mse\": {\n",
    "                        \"value\": mean_squared_error(y_test, y_pred)\n",
    "                },\n",
    "                \"rmse\": {\n",
    "                        \"value\": mean_squared_error(y_test, y_pred, squared=False)\n",
    "                },\n",
    "                \"r2\": {\n",
    "                        \"value\": r2_score(y_test, y_pred)\n",
    "                }\n",
    "        }\n",
    "}\n",
    "\n",
    "# evaluation_output_path for used_cars.csv from local machine\n",
    "evaluation_output_path = os.path.join(\"../UsedCarsPricePrediction/evaluation\", \"evaluation_dtr.json\")\n",
    "\n",
    "with open(evaluation_output_path, \"w\") as f:\n",
    "      f.write(json.dumps(report_dict))"
   ]
  },
  {
   "cell_type": "code",
   "execution_count": 16,
   "metadata": {},
   "outputs": [
    {
     "name": "stdout",
     "output_type": "stream",
     "text": [
      "Loading test input data\n",
      "RMSE: 8.741994516413287;\n",
      "R2: 0.9077172771444003;\n"
     ]
    }
   ],
   "source": [
    "# run the evaluation script \n",
    "!python {train_src_dir}/evaluation_dtr.py"
   ]
  },
  {
   "cell_type": "code",
   "execution_count": 17,
   "metadata": {},
   "outputs": [
    {
     "name": "stdout",
     "output_type": "stream",
     "text": [
      "Overwriting ../UsedCarsPricePrediction/train/model_lr_reg.py\n"
     ]
    }
   ],
   "source": [
    "%%writefile {train_src_dir}/model_lr_reg.py\n",
    "import os\n",
    "import joblib\n",
    "\n",
    "import pandas as pd\n",
    "\n",
    "from sklearn.linear_model import Ridge\n",
    "from sklearn.metrics import mean_squared_error\n",
    "\n",
    "\n",
    "# training_data_directory for used_cars.csv from local machine\n",
    "training_data_directory = \"../UsedCarsPricePrediction/train\"\n",
    "# validation_data_directory for used_cars.csv from local machine\n",
    "validation_data_directory = \"../UsedCarsPricePrediction/train\"\n",
    "# test_data_directory for used_cars.csv from local machine\n",
    "test_data_directory = \"../UsedCarsPricePrediction/test\"\n",
    "\n",
    "train_features_data = os.path.join(training_data_directory, \"train_features.csv\") # this\n",
    "train_labels_data = os.path.join(training_data_directory, \"train_labels.csv\")\n",
    "\n",
    "val_features_data = os.path.join(validation_data_directory, \"val_features.csv\")\n",
    "val_labels_data = os.path.join(validation_data_directory, \"val_labels.csv\")\n",
    "\n",
    "test_features_data = os.path.join(test_data_directory, \"test_features.csv\")\n",
    "test_labels_data = os.path.join(test_data_directory, \"test_labels.csv\")\n",
    "\n",
    "X_train = pd.read_csv(train_features_data, header=None)\n",
    "y_train = pd.read_csv(train_labels_data, header=None)\n",
    "\n",
    "model_lr_reg = Ridge(alpha=0.5)\n",
    "\n",
    "model_lr_reg.fit(X_train, y_train)\n",
    "\n",
    "# X_test = pd.read_csv(test_features_data, header=None)\n",
    "X_val = pd.read_csv(val_features_data, header=None)\n",
    "y_val = pd.read_csv(val_labels_data, header=None)\n",
    "\n",
    "y_pred_val = model_lr_reg.predict(X_val)\n",
    "\n",
    "# print(f\"RMSE: {mean_squared_error(y_test, y_pred, squared=False)};\")\n",
    "print(f\"RMSE: {mean_squared_error(y_val, y_pred_val, squared=False)};\")\n",
    "# print accuracy score on the training and validation sets\n",
    "print(f\"Training Accuracy: {model_lr_reg.score(X_train, y_train)}\")\n",
    "print(f\"Validation Accuracy: {model_lr_reg.score(X_val, y_val)}\")\n",
    "\n",
    "# model_output_directory for used_cars.csv from local machine\n",
    "model_output_directory = os.path.join(\"../UsedCarsPricePrediction/model\", \"model_lr_reg.joblib\")\n",
    "\n",
    "print(f\"Saving model to {model_output_directory}\")\n",
    "joblib.dump(model_lr_reg, model_output_directory)"
   ]
  },
  {
   "cell_type": "code",
   "execution_count": 18,
   "metadata": {},
   "outputs": [
    {
     "name": "stdout",
     "output_type": "stream",
     "text": [
      "RMSE: 19.380907317179734;\n",
      "Training Accuracy: 0.764793226938298\n",
      "Validation Accuracy: 0.7636390107775805\n",
      "Saving model to ../UsedCarsPricePrediction/model\\model_lr_reg.joblib\n"
     ]
    }
   ],
   "source": [
    "# run the model_lr_reg.py file to train the model\n",
    "!python {train_src_dir}/model_lr_reg.py"
   ]
  },
  {
   "cell_type": "code",
   "execution_count": 19,
   "metadata": {},
   "outputs": [
    {
     "name": "stdout",
     "output_type": "stream",
     "text": [
      "Writing ../UsedCarsPricePrediction/train/evaluation_lr_reg.py\n"
     ]
    }
   ],
   "source": [
    "%%writefile {train_src_dir}/evaluation_lr_reg.py\n",
    "import os\n",
    "import json\n",
    "import joblib\n",
    "\n",
    "import pandas as pd\n",
    "\n",
    "from sklearn.metrics import mean_squared_error, r2_score\n",
    "\n",
    "# model_path for used_cars.csv from local machine\n",
    "model_path = f\"../UsedCarsPricePrediction/model/model_lr_reg.joblib\"\n",
    "model = joblib.load(model_path)\n",
    "\n",
    "print(\"Loading test input data\")\n",
    "# test_data_directory for used_cars.csv from local machine\n",
    "test_data_directory = \"../UsedCarsPricePrediction/test\"\n",
    "test_features_data = os.path.join(test_data_directory, \"test_features.csv\")\n",
    "test_labels_data = os.path.join(test_data_directory, \"test_labels.csv\")\n",
    "\n",
    "X_test = pd.read_csv(test_features_data, header=None)\n",
    "y_test = pd.read_csv(test_labels_data, header=None)\n",
    "\n",
    "y_pred = model.predict(X_test)\n",
    "\n",
    "print(f\"RMSE: {mean_squared_error(y_test, y_pred, squared=False)};\")\n",
    "print(f\"R2: {r2_score(y_test, y_pred)};\")\n",
    "report_dict = {\n",
    "        \"regression_metrics\": {\n",
    "                \"mse\": {\n",
    "                        \"value\": mean_squared_error(y_test, y_pred)\n",
    "                },\n",
    "                \"rmse\": {\n",
    "                        \"value\": mean_squared_error(y_test, y_pred, squared=False)\n",
    "                },\n",
    "                \"r2\": {\n",
    "                        \"value\": r2_score(y_test, y_pred)\n",
    "                }\n",
    "        }\n",
    "}\n",
    "\n",
    "# evaluation_output_path for used_cars.csv from local machine\n",
    "evaluation_output_path = os.path.join(\"../UsedCarsPricePrediction/evaluation\", \"evaluation_lr_reg.json\")\n",
    "\n",
    "with open(evaluation_output_path, \"w\") as f:\n",
    "      f.write(json.dumps(report_dict))"
   ]
  },
  {
   "cell_type": "code",
   "execution_count": 20,
   "metadata": {},
   "outputs": [
    {
     "name": "stdout",
     "output_type": "stream",
     "text": [
      "Loading test input data\n",
      "RMSE: 11.803644404211763;\n",
      "R2: 0.8317591028087684;\n"
     ]
    }
   ],
   "source": [
    "# run the evaluation_lr_reg.py file to evaluate the model\n",
    "!python {train_src_dir}/evaluation_lr_reg.py"
   ]
  },
  {
   "cell_type": "code",
   "execution_count": 21,
   "metadata": {},
   "outputs": [
    {
     "name": "stdout",
     "output_type": "stream",
     "text": [
      "Overwriting ../UsedCarsPricePrediction/train/model_lr_reg_lasso.py\n"
     ]
    }
   ],
   "source": [
    "%%writefile {train_src_dir}/model_lr_reg_lasso.py\n",
    "import os\n",
    "import joblib\n",
    "\n",
    "import pandas as pd\n",
    "\n",
    "from sklearn.linear_model import Lasso\n",
    "from sklearn.metrics import mean_squared_error\n",
    "\n",
    "\n",
    "# training_data_directory for used_cars.csv from local machine\n",
    "training_data_directory = \"../UsedCarsPricePrediction/train\"\n",
    "# validation_data_directory for used_cars.csv from local machine\n",
    "validation_data_directory = \"../UsedCarsPricePrediction/train\"\n",
    "# test_data_directory for used_cars.csv from local machine\n",
    "test_data_directory = \"../UsedCarsPricePrediction/test\"\n",
    "\n",
    "train_features_data = os.path.join(training_data_directory, \"train_features.csv\") # this\n",
    "train_labels_data = os.path.join(training_data_directory, \"train_labels.csv\")\n",
    "\n",
    "val_features_data = os.path.join(validation_data_directory, \"val_features.csv\")\n",
    "val_labels_data = os.path.join(validation_data_directory, \"val_labels.csv\")\n",
    "\n",
    "test_features_data = os.path.join(test_data_directory, \"test_features.csv\")\n",
    "test_labels_data = os.path.join(test_data_directory, \"test_labels.csv\")\n",
    "\n",
    "X_train = pd.read_csv(train_features_data, header=None)\n",
    "y_train = pd.read_csv(train_labels_data, header=None)\n",
    "\n",
    "model_lr_reg_lasso = Lasso(alpha=0.5)\n",
    "\n",
    "model_lr_reg_lasso.fit(X_train, y_train)\n",
    "\n",
    "# X_test = pd.read_csv(test_features_data, header=None)\n",
    "X_val = pd.read_csv(val_features_data, header=None)\n",
    "y_val = pd.read_csv(val_labels_data, header=None)\n",
    "\n",
    "y_pred_val = model_lr_reg_lasso.predict(X_val)\n",
    "\n",
    "# print(f\"RMSE: {mean_squared_error(y_test, y_pred, squared=False)};\")\n",
    "print(f\"RMSE: {mean_squared_error(y_val, y_pred_val, squared=False)};\")\n",
    "# print accuracy score on the training and validation sets\n",
    "print(f\"Training Accuracy: {model_lr_reg_lasso.score(X_train, y_train)}\")\n",
    "print(f\"Validation Accuracy: {model_lr_reg_lasso.score(X_val, y_val)}\")\n",
    "\n",
    "# model_output_directory for used_cars.csv from local machine\n",
    "model_output_directory = os.path.join(\"../UsedCarsPricePrediction/model\", \"model_lr_reg_lasso.joblib\")\n",
    "\n",
    "print(f\"Saving model to {model_output_directory}\")\n",
    "joblib.dump(model_lr_reg_lasso, model_output_directory)"
   ]
  },
  {
   "cell_type": "code",
   "execution_count": 22,
   "metadata": {},
   "outputs": [
    {
     "name": "stdout",
     "output_type": "stream",
     "text": [
      "RMSE: 19.965552413964623;\n",
      "Training Accuracy: 0.7577516310631337\n",
      "Validation Accuracy: 0.7491637777684657\n",
      "Saving model to ../UsedCarsPricePrediction/model\\model_lr_reg_lasso.joblib\n"
     ]
    }
   ],
   "source": [
    "# run the model_lr_reg_lasso.py file to train the model\n",
    "!python {train_src_dir}/model_lr_reg_lasso.py"
   ]
  },
  {
   "cell_type": "code",
   "execution_count": 23,
   "metadata": {},
   "outputs": [
    {
     "name": "stdout",
     "output_type": "stream",
     "text": [
      "Writing ../UsedCarsPricePrediction/train/evaluation_lr_reg_lasso.py\n"
     ]
    }
   ],
   "source": [
    "%%writefile {train_src_dir}/evaluation_lr_reg_lasso.py\n",
    "import os\n",
    "import json\n",
    "import joblib\n",
    "\n",
    "import pandas as pd\n",
    "\n",
    "from sklearn.metrics import mean_squared_error, r2_score\n",
    "\n",
    "# model_path for used_cars.csv from local machine\n",
    "model_path = f\"../UsedCarsPricePrediction/model/model_lr_reg_lasso.joblib\"\n",
    "model = joblib.load(model_path)\n",
    "\n",
    "print(\"Loading test input data\")\n",
    "# test_data_directory for used_cars.csv from local machine\n",
    "test_data_directory = \"../UsedCarsPricePrediction/test\"\n",
    "test_features_data = os.path.join(test_data_directory, \"test_features.csv\")\n",
    "test_labels_data = os.path.join(test_data_directory, \"test_labels.csv\")\n",
    "\n",
    "X_test = pd.read_csv(test_features_data, header=None)\n",
    "y_test = pd.read_csv(test_labels_data, header=None)\n",
    "\n",
    "y_pred = model.predict(X_test)\n",
    "\n",
    "print(f\"RMSE: {mean_squared_error(y_test, y_pred, squared=False)};\")\n",
    "print(f\"R2: {r2_score(y_test, y_pred)};\")\n",
    "\n",
    "report_dict = {\n",
    "        \"regression_metrics\": {\n",
    "                \"mse\": {\n",
    "                        \"value\": mean_squared_error(y_test, y_pred)\n",
    "                },\n",
    "                \"rmse\": {\n",
    "                        \"value\": mean_squared_error(y_test, y_pred, squared=False)\n",
    "                },\n",
    "                \"r2\": {\n",
    "                        \"value\": r2_score(y_test, y_pred)\n",
    "                }\n",
    "        }\n",
    "}\n",
    "\n",
    "# evaluation_output_path for used_cars.csv from local machine\n",
    "evaluation_output_path = os.path.join(\"../UsedCarsPricePrediction/evaluation\", \"evaluation_lr_reg_lasso.json\")\n",
    "\n",
    "with open(evaluation_output_path, \"w\") as f:\n",
    "      f.write(json.dumps(report_dict))"
   ]
  },
  {
   "cell_type": "code",
   "execution_count": 24,
   "metadata": {},
   "outputs": [
    {
     "name": "stdout",
     "output_type": "stream",
     "text": [
      "Loading test input data\n",
      "RMSE: 11.88477035597751;\n",
      "R2: 0.8294385302936675;\n"
     ]
    }
   ],
   "source": [
    "# run the evaluation_lr_reg_lasso.py file to evaluate the model\n",
    "!python {train_src_dir}/evaluation_lr_reg_lasso.py"
   ]
  },
  {
   "cell_type": "code",
   "execution_count": 25,
   "metadata": {},
   "outputs": [
    {
     "name": "stdout",
     "output_type": "stream",
     "text": [
      "Overwriting ../UsedCarsPricePrediction/train/model_knn.py\n"
     ]
    }
   ],
   "source": [
    "%%writefile {train_src_dir}/model_knn.py\n",
    "import os\n",
    "import joblib\n",
    "\n",
    "import pandas as pd\n",
    "\n",
    "from sklearn.neighbors import KNeighborsRegressor\n",
    "from sklearn.metrics import mean_squared_error\n",
    "\n",
    "\n",
    "# training_data_directory for used_cars.csv from local machine\n",
    "training_data_directory = \"../UsedCarsPricePrediction/train\"\n",
    "# validation_data_directory for used_cars.csv from local machine\n",
    "validation_data_directory = \"../UsedCarsPricePrediction/train\"\n",
    "# test_data_directory for used_cars.csv from local machine\n",
    "test_data_directory = \"../UsedCarsPricePrediction/test\"\n",
    "\n",
    "train_features_data = os.path.join(training_data_directory, \"train_features.csv\") # this\n",
    "train_labels_data = os.path.join(training_data_directory, \"train_labels.csv\")\n",
    "\n",
    "val_features_data = os.path.join(validation_data_directory, \"val_features.csv\")\n",
    "val_labels_data = os.path.join(validation_data_directory, \"val_labels.csv\")\n",
    "\n",
    "test_features_data = os.path.join(test_data_directory, \"test_features.csv\")\n",
    "test_labels_data = os.path.join(test_data_directory, \"test_labels.csv\")\n",
    "\n",
    "X_train = pd.read_csv(train_features_data, header=None)\n",
    "y_train = pd.read_csv(train_labels_data, header=None)\n",
    "\n",
    "model_knn = KNeighborsRegressor(n_neighbors=5)\n",
    "\n",
    "model_knn.fit(X_train, y_train)\n",
    "\n",
    "# X_test = pd.read_csv(test_features_data, header=None)\n",
    "X_val = pd.read_csv(val_features_data, header=None)\n",
    "y_val = pd.read_csv(val_labels_data, header=None)\n",
    "\n",
    "y_pred_val = model_knn.predict(X_val)\n",
    "\n",
    "# print(f\"RMSE: {mean_squared_error(y_test, y_pred, squared=False)};\")\n",
    "print(f\"RMSE: {mean_squared_error(y_val, y_pred_val, squared=False)};\")\n",
    "# print accuracy score on the training and validation sets\n",
    "print(f\"Training Accuracy: {model_knn.score(X_train, y_train)}\")\n",
    "print(f\"Validation Accuracy: {model_knn.score(X_val, y_val)}\")\n",
    "\n",
    "# model_output_directory for used_cars.csv from local machine\n",
    "model_output_directory = os.path.join(\"../UsedCarsPricePrediction/model\", \"model_knn.joblib\")\n",
    "\n",
    "print(f\"Saving model to {model_output_directory}\")\n",
    "joblib.dump(model_knn, model_output_directory)"
   ]
  },
  {
   "cell_type": "code",
   "execution_count": 26,
   "metadata": {},
   "outputs": [
    {
     "name": "stdout",
     "output_type": "stream",
     "text": [
      "RMSE: 24.10221509075981;\n",
      "Training Accuracy: 0.8259962155986728\n",
      "Validation Accuracy: 0.6344544467595274\n",
      "Saving model to ../UsedCarsPricePrediction/model\\model_knn.joblib\n"
     ]
    }
   ],
   "source": [
    "# run the model_knn.py file to train the model\n",
    "!python {train_src_dir}/model_knn.py"
   ]
  },
  {
   "cell_type": "code",
   "execution_count": 27,
   "metadata": {},
   "outputs": [
    {
     "name": "stdout",
     "output_type": "stream",
     "text": [
      "Writing ../UsedCarsPricePrediction/train/evaluation_knn.py\n"
     ]
    }
   ],
   "source": [
    "%%writefile {train_src_dir}/evaluation_knn.py\n",
    "import os\n",
    "import json\n",
    "import joblib\n",
    "\n",
    "import pandas as pd\n",
    "\n",
    "from sklearn.metrics import mean_squared_error, r2_score\n",
    "\n",
    "# model_path for used_cars.csv from local machine\n",
    "model_path = f\"../UsedCarsPricePrediction/model/model_knn.joblib\"\n",
    "model = joblib.load(model_path)\n",
    "\n",
    "print(\"Loading test input data\")\n",
    "# test_data_directory for used_cars.csv from local machine\n",
    "test_data_directory = \"../UsedCarsPricePrediction/test\"\n",
    "test_features_data = os.path.join(test_data_directory, \"test_features.csv\")\n",
    "test_labels_data = os.path.join(test_data_directory, \"test_labels.csv\")\n",
    "\n",
    "X_test = pd.read_csv(test_features_data, header=None)\n",
    "y_test = pd.read_csv(test_labels_data, header=None)\n",
    "\n",
    "y_pred = model.predict(X_test)\n",
    "\n",
    "print(f\"RMSE: {mean_squared_error(y_test, y_pred, squared=False)};\")\n",
    "print(f\"R2: {r2_score(y_test, y_pred)};\")\n",
    "\n",
    "report_dict = {\n",
    "        \"regression_metrics\": {\n",
    "                \"mse\": {\n",
    "                        \"value\": mean_squared_error(y_test, y_pred)\n",
    "                },\n",
    "                \"rmse\": {\n",
    "                        \"value\": mean_squared_error(y_test, y_pred, squared=False)\n",
    "                },\n",
    "                \"r2\": {\n",
    "                        \"value\": r2_score(y_test, y_pred)\n",
    "                }\n",
    "        }\n",
    "}\n",
    "\n",
    "# evaluation_output_path for used_cars.csv from local machine\n",
    "evaluation_output_path = os.path.join(\"../UsedCarsPricePrediction/evaluation\", \"evaluation_knn.json\")\n",
    "\n",
    "with open(evaluation_output_path, \"w\") as f:\n",
    "      f.write(json.dumps(report_dict))"
   ]
  },
  {
   "cell_type": "code",
   "execution_count": 28,
   "metadata": {},
   "outputs": [
    {
     "name": "stdout",
     "output_type": "stream",
     "text": [
      "Loading test input data\n",
      "RMSE: 10.353159522580537;\n",
      "R2: 0.870566959842025;\n"
     ]
    }
   ],
   "source": [
    "# run the evaluation_knn.py file to evaluate the model\n",
    "!python {train_src_dir}/evaluation_knn.py"
   ]
  },
  {
   "cell_type": "code",
   "execution_count": 29,
   "metadata": {},
   "outputs": [
    {
     "name": "stdout",
     "output_type": "stream",
     "text": [
      "Overwriting ../UsedCarsPricePrediction/train/model_rfr.py\n"
     ]
    }
   ],
   "source": [
    "%%writefile {train_src_dir}/model_rfr.py\n",
    "import os\n",
    "import joblib\n",
    "\n",
    "import pandas as pd\n",
    "\n",
    "from sklearn.ensemble import RandomForestRegressor\n",
    "from sklearn.metrics import mean_squared_error\n",
    "\n",
    "\n",
    "# training_data_directory for used_cars.csv from local machine\n",
    "training_data_directory = \"../UsedCarsPricePrediction/train\"\n",
    "# validation_data_directory for used_cars.csv from local machine\n",
    "validation_data_directory = \"../UsedCarsPricePrediction/train\"\n",
    "# test_data_directory for used_cars.csv from local machine\n",
    "test_data_directory = \"../UsedCarsPricePrediction/test\"\n",
    "\n",
    "train_features_data = os.path.join(training_data_directory, \"train_features.csv\") # this\n",
    "train_labels_data = os.path.join(training_data_directory, \"train_labels.csv\")\n",
    "\n",
    "val_features_data = os.path.join(validation_data_directory, \"val_features.csv\")\n",
    "val_labels_data = os.path.join(validation_data_directory, \"val_labels.csv\")\n",
    "\n",
    "test_features_data = os.path.join(test_data_directory, \"test_features.csv\")\n",
    "test_labels_data = os.path.join(test_data_directory, \"test_labels.csv\")\n",
    "\n",
    "X_train = pd.read_csv(train_features_data, header=None)\n",
    "y_train = pd.read_csv(train_labels_data, header=None)\n",
    "\n",
    "model_rfr = RandomForestRegressor(n_estimators=100, max_depth=10, random_state=42)\n",
    "\n",
    "model_rfr.fit(X_train, y_train)\n",
    "\n",
    "# X_test = pd.read_csv(test_features_data, header=None)\n",
    "X_val = pd.read_csv(val_features_data, header=None)\n",
    "y_val = pd.read_csv(val_labels_data, header=None)\n",
    "\n",
    "y_pred_val = model_rfr.predict(X_val)\n",
    "\n",
    "# print(f\"RMSE: {mean_squared_error(y_test, y_pred, squared=False)};\")\n",
    "print(f\"RMSE: {mean_squared_error(y_val, y_pred_val, squared=False)};\")\n",
    "# print accuracy score on the training and validation sets\n",
    "print(f\"Training Accuracy: {model_rfr.score(X_train, y_train)}\")\n",
    "print(f\"Validation Accuracy: {model_rfr.score(X_val, y_val)}\")\n",
    "\n",
    "# model_output_directory for used_cars.csv from local machine\n",
    "model_output_directory = os.path.join(\"../UsedCarsPricePrediction/model\", \"model_rfr.joblib\")\n",
    "\n",
    "print(f\"Saving model to {model_output_directory}\")\n",
    "joblib.dump(model_rfr, model_output_directory)"
   ]
  },
  {
   "cell_type": "code",
   "execution_count": 30,
   "metadata": {},
   "outputs": [
    {
     "name": "stdout",
     "output_type": "stream",
     "text": [
      "RMSE: 22.13644716861574;\n",
      "Training Accuracy: 0.9828503759331686\n",
      "Validation Accuracy: 0.6916503725956862\n",
      "Saving model to ../UsedCarsPricePrediction/model\\model_rfr.joblib\n"
     ]
    },
    {
     "name": "stderr",
     "output_type": "stream",
     "text": [
      "../UsedCarsPricePrediction/train/model_rfr.py:31: DataConversionWarning: A column-vector y was passed when a 1d array was expected. Please change the shape of y to (n_samples,), for example using ravel().\n",
      "  model_rfr.fit(X_train, y_train)\n"
     ]
    }
   ],
   "source": [
    "# run the model_rfr.py file to train the model\n",
    "!python {train_src_dir}/model_rfr.py"
   ]
  },
  {
   "cell_type": "code",
   "execution_count": 31,
   "metadata": {},
   "outputs": [
    {
     "name": "stdout",
     "output_type": "stream",
     "text": [
      "Writing ../UsedCarsPricePrediction/train/evaluation_rfr.py\n"
     ]
    }
   ],
   "source": [
    "%%writefile {train_src_dir}/evaluation_rfr.py\n",
    "import os\n",
    "import json\n",
    "import joblib\n",
    "\n",
    "import pandas as pd\n",
    "\n",
    "from sklearn.metrics import mean_squared_error, r2_score\n",
    "\n",
    "# model_path for used_cars.csv from local machine\n",
    "model_path = f\"../UsedCarsPricePrediction/model/model_rfr.joblib\"\n",
    "model = joblib.load(model_path)\n",
    "\n",
    "print(\"Loading test input data\")\n",
    "# test_data_directory for used_cars.csv from local machine\n",
    "test_data_directory = \"../UsedCarsPricePrediction/test\"\n",
    "test_features_data = os.path.join(test_data_directory, \"test_features.csv\")\n",
    "test_labels_data = os.path.join(test_data_directory, \"test_labels.csv\")\n",
    "\n",
    "X_test = pd.read_csv(test_features_data, header=None)\n",
    "y_test = pd.read_csv(test_labels_data, header=None)\n",
    "\n",
    "y_pred = model.predict(X_test)\n",
    "\n",
    "print(f\"RMSE: {mean_squared_error(y_test, y_pred, squared=False)};\")\n",
    "print(f\"R2: {r2_score(y_test, y_pred)};\")\n",
    "\n",
    "report_dict = {\n",
    "        \"regression_metrics\": {\n",
    "                \"mse\": {\n",
    "                        \"value\": mean_squared_error(y_test, y_pred)\n",
    "                },\n",
    "                \"rmse\": {\n",
    "                        \"value\": mean_squared_error(y_test, y_pred, squared=False)\n",
    "                },\n",
    "                \"r2\": {\n",
    "                        \"value\": r2_score(y_test, y_pred)\n",
    "                }\n",
    "        }\n",
    "}\n",
    "\n",
    "# evaluation_output_path for used_cars.csv from local machine\n",
    "evaluation_output_path = os.path.join(\"../UsedCarsPricePrediction/evaluation\", \"evaluation_rfr.json\")\n",
    "\n",
    "with open(evaluation_output_path, \"w\") as f:\n",
    "      f.write(json.dumps(report_dict))"
   ]
  },
  {
   "cell_type": "code",
   "execution_count": 32,
   "metadata": {},
   "outputs": [
    {
     "name": "stdout",
     "output_type": "stream",
     "text": [
      "Loading test input data\n",
      "RMSE: 7.397773727131262;\n",
      "R2: 0.9339152231492407;\n"
     ]
    }
   ],
   "source": [
    "# run the evaluation_rfr.py file to evaluate the model\n",
    "!python {train_src_dir}/evaluation_rfr.py"
   ]
  },
  {
   "cell_type": "code",
   "execution_count": 33,
   "metadata": {},
   "outputs": [
    {
     "name": "stdout",
     "output_type": "stream",
     "text": [
      "Overwriting ../UsedCarsPricePrediction/train/model_br.py\n"
     ]
    }
   ],
   "source": [
    "%%writefile {train_src_dir}/model_br.py\n",
    "import os\n",
    "import joblib\n",
    "\n",
    "import pandas as pd\n",
    "\n",
    "from sklearn.ensemble import BaggingRegressor\n",
    "from sklearn.metrics import mean_squared_error\n",
    "\n",
    "\n",
    "# training_data_directory for used_cars.csv from local machine\n",
    "training_data_directory = \"../UsedCarsPricePrediction/train\"\n",
    "# validation_data_directory for used_cars.csv from local machine\n",
    "validation_data_directory = \"../UsedCarsPricePrediction/train\"\n",
    "# test_data_directory for used_cars.csv from local machine\n",
    "test_data_directory = \"../UsedCarsPricePrediction/test\"\n",
    "\n",
    "train_features_data = os.path.join(training_data_directory, \"train_features.csv\") # this\n",
    "train_labels_data = os.path.join(training_data_directory, \"train_labels.csv\")\n",
    "\n",
    "val_features_data = os.path.join(validation_data_directory, \"val_features.csv\")\n",
    "val_labels_data = os.path.join(validation_data_directory, \"val_labels.csv\")\n",
    "\n",
    "test_features_data = os.path.join(test_data_directory, \"test_features.csv\")\n",
    "test_labels_data = os.path.join(test_data_directory, \"test_labels.csv\")\n",
    "\n",
    "X_train = pd.read_csv(train_features_data, header=None)\n",
    "y_train = pd.read_csv(train_labels_data, header=None)\n",
    "\n",
    "model_br = BaggingRegressor(n_estimators=100, random_state=42)\n",
    "\n",
    "model_br.fit(X_train, y_train)\n",
    "\n",
    "# X_test = pd.read_csv(test_features_data, header=None)\n",
    "X_val = pd.read_csv(val_features_data, header=None)\n",
    "y_val = pd.read_csv(val_labels_data, header=None)\n",
    "\n",
    "y_pred_val = model_br.predict(X_val)\n",
    "\n",
    "# print(f\"RMSE: {mean_squared_error(y_test, y_pred, squared=False)};\")\n",
    "print(f\"RMSE: {mean_squared_error(y_val, y_pred_val, squared=False)};\")\n",
    "# print accuracy score on the training and validation sets\n",
    "print(f\"Training Accuracy: {model_br.score(X_train, y_train)}\")\n",
    "print(f\"Validation Accuracy: {model_br.score(X_val, y_val)}\")\n",
    "\n",
    "# model_output_directory for used_cars.csv from local machine\n",
    "model_output_directory = os.path.join(\"../UsedCarsPricePrediction/model\", \"model_br.joblib\")\n",
    "\n",
    "print(f\"Saving model to {model_output_directory}\")\n",
    "joblib.dump(model_br, model_output_directory)"
   ]
  },
  {
   "cell_type": "code",
   "execution_count": 34,
   "metadata": {},
   "outputs": [
    {
     "name": "stdout",
     "output_type": "stream",
     "text": [
      "RMSE: 22.325611764919042;\n",
      "Training Accuracy: 0.9830871633658333\n",
      "Validation Accuracy: 0.6863579195038911\n",
      "Saving model to ../UsedCarsPricePrediction/model\\model_br.joblib\n"
     ]
    },
    {
     "name": "stderr",
     "output_type": "stream",
     "text": [
      "c:\\Users\\pavan\\Downloads\\E2E_DS_Projects\\UsedCarsPricePrediction\\UCPPenv\\lib\\site-packages\\sklearn\\ensemble\\_bagging.py:429: DataConversionWarning: A column-vector y was passed when a 1d array was expected. Please change the shape of y to (n_samples, ), for example using ravel().\n",
      "  return column_or_1d(y, warn=True)\n"
     ]
    }
   ],
   "source": [
    "# run the model_br.py file to train the model\n",
    "!python {train_src_dir}/model_br.py"
   ]
  },
  {
   "cell_type": "code",
   "execution_count": 35,
   "metadata": {},
   "outputs": [
    {
     "name": "stdout",
     "output_type": "stream",
     "text": [
      "Writing ../UsedCarsPricePrediction/train/evaluation_br.py\n"
     ]
    }
   ],
   "source": [
    "%%writefile {train_src_dir}/evaluation_br.py\n",
    "import os\n",
    "import json\n",
    "import joblib\n",
    "\n",
    "import pandas as pd\n",
    "\n",
    "from sklearn.metrics import mean_squared_error, r2_score\n",
    "\n",
    "# model_path for used_cars.csv from local machine\n",
    "model_path = f\"../UsedCarsPricePrediction/model/model_br.joblib\"\n",
    "model = joblib.load(model_path)\n",
    "\n",
    "print(\"Loading test input data\")\n",
    "# test_data_directory for used_cars.csv from local machine\n",
    "test_data_directory = \"../UsedCarsPricePrediction/test\"\n",
    "test_features_data = os.path.join(test_data_directory, \"test_features.csv\")\n",
    "test_labels_data = os.path.join(test_data_directory, \"test_labels.csv\")\n",
    "\n",
    "X_test = pd.read_csv(test_features_data, header=None)\n",
    "y_test = pd.read_csv(test_labels_data, header=None)\n",
    "\n",
    "y_pred = model.predict(X_test)\n",
    "\n",
    "print(f\"RMSE: {mean_squared_error(y_test, y_pred, squared=False)};\")\n",
    "print(f\"R2: {r2_score(y_test, y_pred)};\")\n",
    "\n",
    "report_dict = {\n",
    "        \"regression_metrics\": {\n",
    "                \"mse\": {\n",
    "                        \"value\": mean_squared_error(y_test, y_pred)\n",
    "                },\n",
    "                \"rmse\": {\n",
    "                        \"value\": mean_squared_error(y_test, y_pred, squared=False)\n",
    "                },\n",
    "                \"r2\": {\n",
    "                        \"value\": r2_score(y_test, y_pred)\n",
    "                }\n",
    "        }\n",
    "}\n",
    "\n",
    "# evaluation_output_path for used_cars.csv from local machine\n",
    "evaluation_output_path = os.path.join(\"../UsedCarsPricePrediction/evaluation\", \"evaluation_br.json\")\n",
    "\n",
    "with open(evaluation_output_path, \"w\") as f:\n",
    "      f.write(json.dumps(report_dict))"
   ]
  },
  {
   "cell_type": "code",
   "execution_count": 36,
   "metadata": {},
   "outputs": [
    {
     "name": "stdout",
     "output_type": "stream",
     "text": [
      "Loading test input data\n",
      "RMSE: 7.404164510716247;\n",
      "R2: 0.9338009952895394;\n"
     ]
    }
   ],
   "source": [
    "# run the evaluation_br.py file to evaluate the model\n",
    "!python {train_src_dir}/evaluation_br.py"
   ]
  },
  {
   "cell_type": "code",
   "execution_count": 37,
   "metadata": {},
   "outputs": [
    {
     "name": "stdout",
     "output_type": "stream",
     "text": [
      "Overwriting ../UsedCarsPricePrediction/train/model_abr.py\n"
     ]
    }
   ],
   "source": [
    "%%writefile {train_src_dir}/model_abr.py\n",
    "import os\n",
    "import joblib\n",
    "\n",
    "import pandas as pd\n",
    "\n",
    "from sklearn.ensemble import AdaBoostRegressor\n",
    "from sklearn.metrics import mean_squared_error\n",
    "\n",
    "\n",
    "# training_data_directory for used_cars.csv from local machine\n",
    "training_data_directory = \"../UsedCarsPricePrediction/train\"\n",
    "# validation_data_directory for used_cars.csv from local machine\n",
    "validation_data_directory = \"../UsedCarsPricePrediction/train\"\n",
    "\n",
    "train_features_data = os.path.join(training_data_directory, \"train_features.csv\") # this\n",
    "train_labels_data = os.path.join(training_data_directory, \"train_labels.csv\")\n",
    "\n",
    "val_features_data = os.path.join(validation_data_directory, \"val_features.csv\")\n",
    "val_labels_data = os.path.join(validation_data_directory, \"val_labels.csv\")\n",
    "\n",
    "\n",
    "X_train = pd.read_csv(train_features_data, header=None)\n",
    "y_train = pd.read_csv(train_labels_data, header=None)\n",
    "\n",
    "model_abr = AdaBoostRegressor(n_estimators=100, random_state=42)\n",
    "\n",
    "model_abr.fit(X_train, y_train)\n",
    "\n",
    "X_val = pd.read_csv(val_features_data, header=None)\n",
    "y_val = pd.read_csv(val_labels_data, header=None)\n",
    "\n",
    "y_pred_val = model_abr.predict(X_val)\n",
    "\n",
    "print(f\"RMSE: {mean_squared_error(y_val, y_pred_val, squared=False)};\")\n",
    "# print accuracy score on the training and validation sets\n",
    "print(f\"Training Accuracy: {model_abr.score(X_train, y_train)}\")\n",
    "print(f\"Validation Accuracy: {model_abr.score(X_val, y_val)}\")\n",
    "\n",
    "# model_output_directory for used_cars.csv from local machine\n",
    "model_output_directory = os.path.join(\"../UsedCarsPricePrediction/model\", \"model_abr.joblib\")\n",
    "\n",
    "print(f\"Saving model to {model_output_directory}\")\n",
    "joblib.dump(model_abr, model_output_directory)"
   ]
  },
  {
   "cell_type": "code",
   "execution_count": 38,
   "metadata": {},
   "outputs": [
    {
     "name": "stdout",
     "output_type": "stream",
     "text": [
      "RMSE: 22.535073087722964;\n",
      "Training Accuracy: 0.9543936924491306\n",
      "Validation Accuracy: 0.6804450631181782\n",
      "Saving model to ../UsedCarsPricePrediction/model\\model_abr.joblib\n"
     ]
    },
    {
     "name": "stderr",
     "output_type": "stream",
     "text": [
      "c:\\Users\\pavan\\Downloads\\E2E_DS_Projects\\UsedCarsPricePrediction\\UCPPenv\\lib\\site-packages\\sklearn\\utils\\validation.py:993: DataConversionWarning: A column-vector y was passed when a 1d array was expected. Please change the shape of y to (n_samples, ), for example using ravel().\n",
      "  y = column_or_1d(y, warn=True)\n"
     ]
    }
   ],
   "source": [
    "# run the model_abr.py file to train the model\n",
    "!python {train_src_dir}/model_abr.py"
   ]
  },
  {
   "cell_type": "code",
   "execution_count": 39,
   "metadata": {},
   "outputs": [
    {
     "name": "stdout",
     "output_type": "stream",
     "text": [
      "Writing ../UsedCarsPricePrediction/train/evaluation_abr.py\n"
     ]
    }
   ],
   "source": [
    "%%writefile {train_src_dir}/evaluation_abr.py\n",
    "import os\n",
    "import json\n",
    "import joblib\n",
    "\n",
    "import pandas as pd\n",
    "\n",
    "from sklearn.metrics import mean_squared_error, r2_score\n",
    "\n",
    "# model_path for used_cars.csv from local machine\n",
    "model_path = f\"../UsedCarsPricePrediction/model/model_abr.joblib\"\n",
    "model = joblib.load(model_path)\n",
    "\n",
    "print(\"Loading test input data\")\n",
    "# test_data_directory for used_cars.csv from local machine\n",
    "test_data_directory = \"../UsedCarsPricePrediction/test\"\n",
    "test_features_data = os.path.join(test_data_directory, \"test_features.csv\")\n",
    "test_labels_data = os.path.join(test_data_directory, \"test_labels.csv\")\n",
    "\n",
    "\n",
    "X_test = pd.read_csv(test_features_data, header=None)\n",
    "y_test = pd.read_csv(test_labels_data, header=None)\n",
    "\n",
    "y_pred = model.predict(X_test)\n",
    "\n",
    "print(f\"RMSE: {mean_squared_error(y_test, y_pred, squared=False)};\")\n",
    "print(f\"R2: {r2_score(y_test, y_pred)};\")\n",
    "\n",
    "report_dict = {\n",
    "        \"regression_metrics\": {\n",
    "                \"mse\": {\n",
    "                        \"value\": mean_squared_error(y_test, y_pred)\n",
    "                },\n",
    "                \"rmse\": {\n",
    "                        \"value\": mean_squared_error(y_test, y_pred, squared=False)\n",
    "                },\n",
    "                \"r2\": {\n",
    "                        \"value\": r2_score(y_test, y_pred)\n",
    "                }\n",
    "        }\n",
    "}\n",
    "\n",
    "# evaluation_output_path for used_cars.csv from local machine\n",
    "evaluation_output_path = os.path.join(\"../UsedCarsPricePrediction/evaluation\", \"evaluation_abr.json\")\n",
    "\n",
    "with open(evaluation_output_path, \"w\") as f:\n",
    "      f.write(json.dumps(report_dict))"
   ]
  },
  {
   "cell_type": "code",
   "execution_count": 40,
   "metadata": {},
   "outputs": [
    {
     "name": "stdout",
     "output_type": "stream",
     "text": [
      "Loading test input data\n",
      "RMSE: 6.995229383919679;\n",
      "R2: 0.940911459747701;\n"
     ]
    }
   ],
   "source": [
    "# run the evaluation_abr.py file to evaluate the model\n",
    "!python {train_src_dir}/evaluation_abr.py"
   ]
  },
  {
   "cell_type": "code",
   "execution_count": 41,
   "metadata": {},
   "outputs": [
    {
     "name": "stdout",
     "output_type": "stream",
     "text": [
      "Overwriting ../UsedCarsPricePrediction/train/model_xgbr.py\n"
     ]
    }
   ],
   "source": [
    "%%writefile {train_src_dir}/model_xgbr.py\n",
    "import os\n",
    "import joblib\n",
    "\n",
    "import pandas as pd\n",
    "\n",
    "from xgboost import XGBRegressor\n",
    "from sklearn.metrics import mean_squared_error\n",
    "\n",
    "\n",
    "# training_data_directory for used_cars.csv from local machine\n",
    "training_data_directory = \"../UsedCarsPricePrediction/train\"\n",
    "# validation_data_directory for used_cars.csv from local machine\n",
    "validation_data_directory = \"../UsedCarsPricePrediction/train\"\n",
    "\n",
    "train_features_data = os.path.join(training_data_directory, \"train_features.csv\") # this\n",
    "train_labels_data = os.path.join(training_data_directory, \"train_labels.csv\")\n",
    "\n",
    "val_features_data = os.path.join(validation_data_directory, \"val_features.csv\")\n",
    "val_labels_data = os.path.join(validation_data_directory, \"val_labels.csv\")\n",
    "\n",
    "\n",
    "X_train = pd.read_csv(train_features_data, header=None)\n",
    "y_train = pd.read_csv(train_labels_data, header=None)\n",
    "\n",
    "model_xgbr = XGBRegressor(n_estimators=100, random_state=42)\n",
    "\n",
    "model_xgbr.fit(X_train, y_train)\n",
    "\n",
    "X_val = pd.read_csv(val_features_data, header=None)\n",
    "y_val = pd.read_csv(val_labels_data, header=None)\n",
    "\n",
    "y_pred_val = model_xgbr.predict(X_val)\n",
    "\n",
    "print(f\"RMSE: {mean_squared_error(y_val, y_pred_val, squared=False)};\")\n",
    "# print accuracy score on the training and validation sets\n",
    "print(f\"Training Accuracy: {model_xgbr.score(X_train, y_train)}\")\n",
    "print(f\"Validation Accuracy: {model_xgbr.score(X_val, y_val)}\")\n",
    "\n",
    "# model_output_directory for used_cars.csv from local machine\n",
    "model_output_directory = os.path.join(\"../UsedCarsPricePrediction/model\", \"model_xgbr.joblib\")\n",
    "\n",
    "print(f\"Saving model to {model_output_directory}\")\n",
    "joblib.dump(model_xgbr, model_output_directory)"
   ]
  },
  {
   "cell_type": "code",
   "execution_count": 43,
   "metadata": {},
   "outputs": [
    {
     "name": "stdout",
     "output_type": "stream",
     "text": [
      "RMSE: 23.07856287869712;\n",
      "Training Accuracy: 0.9999999902077813\n",
      "Validation Accuracy: 0.6648454555772869\n",
      "Saving model to ../UsedCarsPricePrediction/model\\model_xgbr.joblib\n"
     ]
    }
   ],
   "source": [
    "# run the model_xgbr.py file to train the model\n",
    "!python {train_src_dir}/model_xgbr.py"
   ]
  },
  {
   "cell_type": "code",
   "execution_count": 44,
   "metadata": {},
   "outputs": [
    {
     "name": "stdout",
     "output_type": "stream",
     "text": [
      "Writing ../UsedCarsPricePrediction/train/evaluation_xgbr.py\n"
     ]
    }
   ],
   "source": [
    "%%writefile {train_src_dir}/evaluation_xgbr.py\n",
    "import os\n",
    "import json\n",
    "import joblib\n",
    "\n",
    "import pandas as pd\n",
    "\n",
    "from sklearn.metrics import mean_squared_error, r2_score\n",
    "\n",
    "# model_path for used_cars.csv from local machine\n",
    "model_path = f\"../UsedCarsPricePrediction/model/model_xgbr.joblib\"\n",
    "model = joblib.load(model_path)\n",
    "\n",
    "print(\"Loading test input data\")\n",
    "# test_data_directory for used_cars.csv from local machine\n",
    "test_data_directory = \"../UsedCarsPricePrediction/test\"\n",
    "test_features_data = os.path.join(test_data_directory, \"test_features.csv\")\n",
    "test_labels_data = os.path.join(test_data_directory, \"test_labels.csv\")\n",
    "\n",
    "\n",
    "X_test = pd.read_csv(test_features_data, header=None)\n",
    "y_test = pd.read_csv(test_labels_data, header=None)\n",
    "\n",
    "y_pred = model.predict(X_test)\n",
    "\n",
    "print(f\"RMSE: {mean_squared_error(y_test, y_pred, squared=False)};\")\n",
    "print(f\"R2: {r2_score(y_test, y_pred)};\")\n",
    "\n",
    "report_dict = {\n",
    "        \"regression_metrics\": {\n",
    "                \"mse\": {\n",
    "                        \"value\": mean_squared_error(y_test, y_pred)\n",
    "                },\n",
    "                \"rmse\": {\n",
    "                        \"value\": mean_squared_error(y_test, y_pred, squared=False)\n",
    "                },\n",
    "                \"r2\": {\n",
    "                        \"value\": r2_score(y_test, y_pred)\n",
    "                }\n",
    "        }\n",
    "}\n",
    "\n",
    "# evaluation_output_path for used_cars.csv from local machine\n",
    "evaluation_output_path = os.path.join(\"../UsedCarsPricePrediction/evaluation\", \"evaluation_xgbr.json\")\n",
    "\n",
    "with open(evaluation_output_path, \"w\") as f:\n",
    "      f.write(json.dumps(report_dict))"
   ]
  },
  {
   "cell_type": "code",
   "execution_count": 45,
   "metadata": {},
   "outputs": [
    {
     "name": "stdout",
     "output_type": "stream",
     "text": [
      "Loading test input data\n",
      "RMSE: 8.575832266542381;\n",
      "R2: 0.9111920394058313;\n"
     ]
    }
   ],
   "source": [
    "# run the evaluation_xgbr.py file to evaluate the model\n",
    "!python {train_src_dir}/evaluation_xgbr.py"
   ]
  }
 ],
 "metadata": {
  "kernelspec": {
   "display_name": "Python 3",
   "language": "python",
   "name": "python3"
  },
  "language_info": {
   "codemirror_mode": {
    "name": "ipython",
    "version": 3
   },
   "file_extension": ".py",
   "mimetype": "text/x-python",
   "name": "python",
   "nbconvert_exporter": "python",
   "pygments_lexer": "ipython3",
   "version": "3.7.16"
  }
 },
 "nbformat": 4,
 "nbformat_minor": 2
}
