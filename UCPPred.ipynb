{
 "cells": [
  {
   "cell_type": "code",
   "execution_count": 1,
   "metadata": {},
   "outputs": [],
   "source": [
    "# import necessary libraries\n",
    "import os\n",
    "import numpy as np\n",
    "import pandas as pd\n",
    "import matplotlib.pyplot as plt\n",
    "import seaborn as sns\n",
    "from sklearn import preprocessing\n",
    "from sklearn.model_selection import train_test_split\n",
    "from sklearn.metrics import accuracy_score, confusion_matrix, classification_report\n",
    "from sklearn.ensemble import RandomForestClassifier\n",
    "from sklearn.model_selection import GridSearchCV\n",
    "from sklearn.model_selection import RandomizedSearchCV\n",
    "from sklearn.model_selection import cross_val_score\n",
    "import joblib\n",
    "import warnings\n",
    "warnings.filterwarnings(\"ignore\")"
   ]
  },
  {
   "cell_type": "code",
   "execution_count": 2,
   "metadata": {},
   "outputs": [],
   "source": [
    "# create datasets, evaluation_results_json, models_joblib and training_evaluation_py folders if they don't exist already\n",
    "if not os.path.exists('datasets'):\n",
    "    os.makedirs('datasets')\n",
    "if not os.path.exists('evaluation_results_json'):\n",
    "    os.makedirs('evaluation_results_json')\n",
    "if not os.path.exists('models_joblib'):\n",
    "    os.makedirs('models_joblib')\n",
    "if not os.path.exists('training_evaluation_py'):\n",
    "    os.makedirs('training_evaluation_py')"
   ]
  },
  {
   "cell_type": "code",
   "execution_count": 3,
   "metadata": {},
   "outputs": [],
   "source": [
    "# get the data path of used_cars.csv file present in the train folder \n",
    "input_data_path = '../UsedCarsPricePrediction/datasets/used_cars.csv'\n",
    "target = 'price'\n",
    "numeric_features = ['Kilometers_Driven', 'Mileage', 'Engine', 'Power', 'Seats']\n",
    "catergorical_features = ['Segment']\n",
    "# train_features_output_path for used_cars.csv from local machine\n",
    "train_features_output_path = os.path.join(\"../UsedCarsPricePrediction/datasets\", \"train_features.csv\")\n",
    "# train_labels_output_path for used_cars.csv from local machine\n",
    "train_labels_output_path = os.path.join(\"../UsedCarsPricePrediction/datasets\", \"train_labels.csv\")\n",
    "\n",
    "# validation set for used_cars.csv from local machine\n",
    "val_features_output_path = os.path.join(\"../UsedCarsPricePrediction/datasets\", \"val_features.csv\")\n",
    "val_labels_output_path = os.path.join(\"../UsedCarsPricePrediction/datasets\", \"val_labels.csv\")\n",
    "\n",
    "# test_features_output_path for used_cars.csv from local machine\n",
    "test_features_output_path = os.path.join(\"../UsedCarsPricePrediction/datasets\", \"test_features.csv\")\n",
    "# test_labels_output_path for used_cars.csv from local machine\n",
    "test_labels_output_path = os.path.join(\"../UsedCarsPricePrediction/datasets\", \"test_labels.csv\")\n"
   ]
  },
  {
   "cell_type": "code",
   "execution_count": 4,
   "metadata": {},
   "outputs": [],
   "source": [
    "# from main.py in the current directory import the function preprocess \n",
    "from main import preprocess\n",
    "\n",
    "# call the function preprocess and pass the input_data_path, target, numeric_features, catergorical_features, train_features_output_path, train_labels_output_path, val_features_output_path, val_labels_output_path, test_features_output_path, test_labels_output_path\n",
    "preprocess(input_data_path, target, numeric_features, catergorical_features, train_features_output_path, train_labels_output_path, val_features_output_path, val_labels_output_path, test_features_output_path, test_labels_output_path)"
   ]
  },
  {
   "cell_type": "code",
   "execution_count": 5,
   "metadata": {},
   "outputs": [],
   "source": [
    "# training_data_directory for used_cars.csv from local machine\n",
    "training_data_directory = \"../UsedCarsPricePrediction/datasets\"\n",
    "# validation_data_directory for used_cars.csv from local machine\n",
    "validation_data_directory = \"../UsedCarsPricePrediction/datasets\"\n",
    "# test_data_directory for used_cars.csv from local machine\n",
    "test_data_directory = \"../UsedCarsPricePrediction/datasets\"\n",
    "\n",
    "train_features_data = os.path.join(training_data_directory, \"train_features.csv\") # this\n",
    "train_labels_data = os.path.join(training_data_directory, \"train_labels.csv\")\n",
    "\n",
    "val_features_data = os.path.join(validation_data_directory, \"val_features.csv\")\n",
    "val_labels_data = os.path.join(validation_data_directory, \"val_labels.csv\")\n",
    "\n",
    "test_features_data = os.path.join(test_data_directory, \"test_features.csv\")\n",
    "test_labels_data = os.path.join(test_data_directory, \"test_labels.csv\")"
   ]
  },
  {
   "cell_type": "code",
   "execution_count": 6,
   "metadata": {},
   "outputs": [
    {
     "name": "stdout",
     "output_type": "stream",
     "text": [
      "RMSE: 19.3793577173483;\n",
      "Training Accuracy: 0.7648688620886591\n",
      "Validation Accuracy: 0.7636768057374047\n",
      "Saving model to ../UsedCarsPricePrediction/models_joblib\\model_lr.joblib\n"
     ]
    }
   ],
   "source": [
    "# model_output_directory for used_cars.csv from local machine for linear regression\n",
    "model_output_directory = os.path.join(\"../UsedCarsPricePrediction/models_joblib\", \"model_lr.joblib\")\n",
    "\n",
    "# from main.py in the current directory import the function training_lr\n",
    "from main import training_lr\n",
    "\n",
    "# call the function training_lr and pass the train_features_data, train_labels_data, val_features_data, val_labels_data, model_output_directory\n",
    "training_lr(train_features_data, train_labels_data, val_features_data, val_labels_data, model_output_directory)"
   ]
  },
  {
   "cell_type": "code",
   "execution_count": 7,
   "metadata": {},
   "outputs": [
    {
     "name": "stdout",
     "output_type": "stream",
     "text": [
      "Loading test input data\n",
      "RMSE: 11.82246417300771;\n",
      "R2: 0.8312221874592235;\n"
     ]
    }
   ],
   "source": [
    "# model_path for used_cars.csv from local machine for linear regression\n",
    "model_path = f\"../UsedCarsPricePrediction/models_joblib/model_lr.joblib\"\n",
    "print(\"Loading test input data\")\n",
    "# test_data_directory for used_cars.csv from local machine\n",
    "test_data_directory = \"../UsedCarsPricePrediction/datasets\"\n",
    "test_features_data = os.path.join(test_data_directory, \"test_features.csv\")\n",
    "test_labels_data = os.path.join(test_data_directory, \"test_labels.csv\")\n",
    "evaluation_output_path = os.path.join(\"../UsedCarsPricePrediction/evaluation_results_json\", \"evaluation_lr.json\")\n",
    "\n",
    "# from main.py in the current directory import the function evaluation_lr\n",
    "from main import evaluation_lr\n",
    "\n",
    "# call the function evaluation_lr and pass the model_path, test_features_data, test_labels_data, evaluation_output_path\n",
    "evaluation_lr(model_path, test_features_data, test_labels_data, evaluation_output_path)"
   ]
  },
  {
   "cell_type": "code",
   "execution_count": 8,
   "metadata": {},
   "outputs": [
    {
     "name": "stdout",
     "output_type": "stream",
     "text": [
      "RMSE: 22.13644716861574;\n",
      "Training Accuracy: 0.9828503759331686\n",
      "Validation Accuracy: 0.6916503725956862\n",
      "Saving model to ../UsedCarsPricePrediction/models_joblib\\model_rfr.joblib\n"
     ]
    }
   ],
   "source": [
    "# model_output_directory for used_cars.csv from local machine for random forest regressor \n",
    "model_output_directory = os.path.join(\"../UsedCarsPricePrediction/models_joblib\", \"model_rfr.joblib\")\n",
    "\n",
    "# from main.py in the current directory import the function training_rfr\n",
    "from main import training_rfr\n",
    "\n",
    "# call the function training_rfr and pass the train_features_data, train_labels_data, val_features_data, val_labels_data, model_output_directory\n",
    "training_rfr(train_features_data, train_labels_data, val_features_data, val_labels_data, model_output_directory)"
   ]
  },
  {
   "cell_type": "code",
   "execution_count": 9,
   "metadata": {},
   "outputs": [
    {
     "name": "stdout",
     "output_type": "stream",
     "text": [
      "Loading test input data\n",
      "RMSE: 7.397773727131262;\n",
      "R2: 0.9339152231492407;\n"
     ]
    }
   ],
   "source": [
    "# model_path for used_cars.csv from local machine for random forest regressor\n",
    "model_path = f\"../UsedCarsPricePrediction/models_joblib/model_rfr.joblib\"\n",
    "print(\"Loading test input data\")\n",
    "# test_data_directory for used_cars.csv from local machine\n",
    "test_data_directory = \"../UsedCarsPricePrediction/datasets\"\n",
    "test_features_data = os.path.join(test_data_directory, \"test_features.csv\")\n",
    "test_labels_data = os.path.join(test_data_directory, \"test_labels.csv\")\n",
    "evaluation_output_path = os.path.join(\"../UsedCarsPricePrediction/evaluation_results_json\", \"evaluation_rfr.json\")\n",
    "\n",
    "# from main.py in the current directory import the function evaluation_rfr\n",
    "from main import evaluation_rfr\n",
    "\n",
    "# call the function evaluation_rfr and pass the model_path, test_features_data, test_labels_data, evaluation_output_path\n",
    "evaluation_rfr(model_path, test_features_data, test_labels_data, evaluation_output_path)"
   ]
  },
  {
   "cell_type": "code",
   "execution_count": 10,
   "metadata": {},
   "outputs": [
    {
     "name": "stdout",
     "output_type": "stream",
     "text": [
      "RMSE: 22.535073087722964;\n",
      "Training Accuracy: 0.9543936924491306\n",
      "Validation Accuracy: 0.6804450631181782\n",
      "Saving model to ../UsedCarsPricePrediction/models_joblib\\model_abr.joblib\n"
     ]
    }
   ],
   "source": [
    "# model_output_directory for used_cars.csv from local machine for model_abr\n",
    "model_output_directory = os.path.join(\"../UsedCarsPricePrediction/models_joblib\", \"model_abr.joblib\")\n",
    "\n",
    "# from main.py in the current directory import the function training_abr\n",
    "from main import training_abr\n",
    "\n",
    "# call the function training_abr and pass the train_features_data, train_labels_data, val_features_data, val_labels_data, model_output_directory\n",
    "training_abr(train_features_data, train_labels_data, val_features_data, val_labels_data, model_output_directory)"
   ]
  },
  {
   "cell_type": "code",
   "execution_count": 11,
   "metadata": {},
   "outputs": [
    {
     "name": "stdout",
     "output_type": "stream",
     "text": [
      "Loading test input data\n",
      "RMSE: 6.995229383919679;\n",
      "R2: 0.940911459747701;\n"
     ]
    }
   ],
   "source": [
    "# model_path for used_cars.csv from local machine for model_abr \n",
    "model_path = f\"../UsedCarsPricePrediction/models_joblib/model_abr.joblib\"\n",
    "print(\"Loading test input data\")\n",
    "# test_data_directory for used_cars.csv from local machine\n",
    "test_data_directory = \"../UsedCarsPricePrediction/datasets\"\n",
    "test_features_data = os.path.join(test_data_directory, \"test_features.csv\")\n",
    "test_labels_data = os.path.join(test_data_directory, \"test_labels.csv\")\n",
    "evaluation_output_path = os.path.join(\"../UsedCarsPricePrediction/evaluation_results_json\", \"evaluation_abr.json\")\n",
    "\n",
    "# from main.py in the current directory import the function evaluation_abr\n",
    "from main import evaluation_abr\n",
    "\n",
    "# call the function evaluation_abr and pass the model_path, test_features_data, test_labels_data, evaluation_output_path\n",
    "evaluation_abr(model_path, test_features_data, test_labels_data, evaluation_output_path)"
   ]
  },
  {
   "cell_type": "code",
   "execution_count": 12,
   "metadata": {},
   "outputs": [
    {
     "name": "stdout",
     "output_type": "stream",
     "text": [
      "RMSE: 22.325611764919042;\n",
      "Training Accuracy: 0.9830871633658333\n",
      "Validation Accuracy: 0.6863579195038911\n",
      "Saving model to ../UsedCarsPricePrediction/models_joblib\\model_br.joblib\n"
     ]
    }
   ],
   "source": [
    "# model_output_directory for used_cars.csv from local machine for model_br\n",
    "model_output_directory = os.path.join(\"../UsedCarsPricePrediction/models_joblib\", \"model_br.joblib\")\n",
    "\n",
    "# from main.py in the current directory import the function training_br\n",
    "from main import training_br\n",
    "\n",
    "# call the function training_br and pass the train_features_data, train_labels_data, val_features_data, val_labels_data, model_output_directory\n",
    "training_br(train_features_data, train_labels_data, val_features_data, val_labels_data, model_output_directory)"
   ]
  },
  {
   "cell_type": "code",
   "execution_count": 13,
   "metadata": {},
   "outputs": [
    {
     "name": "stdout",
     "output_type": "stream",
     "text": [
      "Loading test input data\n",
      "RMSE: 7.404164510716247;\n",
      "R2: 0.9338009952895394;\n"
     ]
    }
   ],
   "source": [
    "# model_path for used_cars.csv from local machine for model_br\n",
    "model_path = f\"../UsedCarsPricePrediction/models_joblib/model_br.joblib\"\n",
    "print(\"Loading test input data\")\n",
    "# test_data_directory for used_cars.csv from local machine\n",
    "test_data_directory = \"../UsedCarsPricePrediction/datasets\"\n",
    "test_features_data = os.path.join(test_data_directory, \"test_features.csv\")\n",
    "test_labels_data = os.path.join(test_data_directory, \"test_labels.csv\")\n",
    "evaluation_output_path = os.path.join(\"../UsedCarsPricePrediction/evaluation_results_json\", \"evaluation_br.json\")\n",
    "\n",
    "# from main.py in the current directory import the function evaluation_br\n",
    "from main import evaluation_br\n",
    "\n",
    "# call the function evaluation_br and pass the model_path, test_features_data, test_labels_data, evaluation_output_path\n",
    "evaluation_br(model_path, test_features_data, test_labels_data, evaluation_output_path)"
   ]
  },
  {
   "cell_type": "code",
   "execution_count": 14,
   "metadata": {},
   "outputs": [
    {
     "name": "stdout",
     "output_type": "stream",
     "text": [
      "RMSE: 23.113064825440173;\n",
      "Training Accuracy: 1.0\n",
      "Validation Accuracy: 0.6638426090931964\n",
      "Saving model to ../UsedCarsPricePrediction/models_joblib\\model_dtr.joblib\n"
     ]
    }
   ],
   "source": [
    "# model_output_directory for used_cars.csv from local machine for model_dtr\n",
    "model_output_directory = os.path.join(\"../UsedCarsPricePrediction/models_joblib\", \"model_dtr.joblib\")\n",
    "\n",
    "# from main.py in the current directory import the function training_dtr\n",
    "from main import training_dtr\n",
    "\n",
    "# call the function training_dtr and pass the train_features_data, train_labels_data, val_features_data, val_labels_data, model_output_directory\n",
    "training_dtr(train_features_data, train_labels_data, val_features_data, val_labels_data, model_output_directory)"
   ]
  },
  {
   "cell_type": "code",
   "execution_count": 15,
   "metadata": {},
   "outputs": [
    {
     "name": "stdout",
     "output_type": "stream",
     "text": [
      "Loading test input data\n",
      "RMSE: 8.539066547345792;\n",
      "R2: 0.9119518699409144;\n"
     ]
    }
   ],
   "source": [
    "# model_path for used_cars.csv from local machine for model_dtr\n",
    "model_path = f\"../UsedCarsPricePrediction/models_joblib/model_dtr.joblib\"\n",
    "print(\"Loading test input data\")\n",
    "# test_data_directory for used_cars.csv from local machine\n",
    "test_data_directory = \"../UsedCarsPricePrediction/datasets\"\n",
    "test_features_data = os.path.join(test_data_directory, \"test_features.csv\")\n",
    "test_labels_data = os.path.join(test_data_directory, \"test_labels.csv\")\n",
    "evaluation_output_path = os.path.join(\"../UsedCarsPricePrediction/evaluation_results_json\", \"evaluation_dtr.json\")\n",
    "\n",
    "# from main.py in the current directory import the function evaluation_dtr\n",
    "from main import evaluation_dtr\n",
    "\n",
    "# call the function evaluation_dtr and pass the model_path, test_features_data, test_labels_data, evaluation_output_path\n",
    "evaluation_dtr(model_path, test_features_data, test_labels_data, evaluation_output_path)"
   ]
  },
  {
   "cell_type": "code",
   "execution_count": 16,
   "metadata": {},
   "outputs": [
    {
     "name": "stdout",
     "output_type": "stream",
     "text": [
      "RMSE: 24.10221509075981;\n",
      "Training Accuracy: 0.8259962155986728\n",
      "Validation Accuracy: 0.6344544467595274\n",
      "Saving model to ../UsedCarsPricePrediction/models_joblib\\model_knn.joblib\n"
     ]
    }
   ],
   "source": [
    "# model_output_directory for used_cars.csv from local machine for model_knn\n",
    "model_output_directory = os.path.join(\"../UsedCarsPricePrediction/models_joblib\", \"model_knn.joblib\")\n",
    "\n",
    "# from main.py in the current directory import the function training_knn\n",
    "from main import training_knn\n",
    "\n",
    "# call the function training_knn and pass the train_features_data, train_labels_data, val_features_data, val_labels_data, model_output_directory\n",
    "training_knn(train_features_data, train_labels_data, val_features_data, val_labels_data, model_output_directory)"
   ]
  },
  {
   "cell_type": "code",
   "execution_count": 17,
   "metadata": {},
   "outputs": [
    {
     "name": "stdout",
     "output_type": "stream",
     "text": [
      "Loading test input data\n",
      "RMSE: 10.353159522580537;\n",
      "R2: 0.870566959842025;\n"
     ]
    }
   ],
   "source": [
    "# model_path for used_cars.csv from local machine for model_knn\n",
    "model_path = f\"../UsedCarsPricePrediction/models_joblib/model_knn.joblib\"\n",
    "print(\"Loading test input data\")\n",
    "# test_data_directory for used_cars.csv from local machine\n",
    "test_data_directory = \"../UsedCarsPricePrediction/datasets\"\n",
    "test_features_data = os.path.join(test_data_directory, \"test_features.csv\")\n",
    "test_labels_data = os.path.join(test_data_directory, \"test_labels.csv\")\n",
    "evaluation_output_path = os.path.join(\"../UsedCarsPricePrediction/evaluation_results_json\", \"evaluation_knn.json\")\n",
    "\n",
    "# from main.py in the current directory import the function evaluation_knn\n",
    "from main import evaluation_knn\n",
    "\n",
    "# call the function evaluation_knn and pass the model_path, test_features_data, test_labels_data, evaluation_output_path\n",
    "evaluation_knn(model_path, test_features_data, test_labels_data, evaluation_output_path)"
   ]
  },
  {
   "cell_type": "code",
   "execution_count": 18,
   "metadata": {},
   "outputs": [
    {
     "name": "stdout",
     "output_type": "stream",
     "text": [
      "RMSE: 19.965552413964623;\n",
      "Training Accuracy: 0.7577516310631337\n",
      "Validation Accuracy: 0.7491637777684657\n",
      "Saving model to ../UsedCarsPricePrediction/models_joblib\\model_lr_reg_lasso.joblib\n"
     ]
    }
   ],
   "source": [
    "# model_output_directory for used_cars.csv from local machine for model_lr_reg_lasso\n",
    "model_output_directory = os.path.join(\"../UsedCarsPricePrediction/models_joblib\", \"model_lr_reg_lasso.joblib\")\n",
    "\n",
    "# from main.py in the current directory import the function training_lr_reg_lasso\n",
    "from main import training_lr_reg_lasso\n",
    "\n",
    "# call the function training_lr_reg_lasso and pass the train_features_data, train_labels_data, val_features_data, val_labels_data, model_output_directory\n",
    "training_lr_reg_lasso(train_features_data, train_labels_data, val_features_data, val_labels_data, model_output_directory)"
   ]
  },
  {
   "cell_type": "code",
   "execution_count": 19,
   "metadata": {},
   "outputs": [
    {
     "name": "stdout",
     "output_type": "stream",
     "text": [
      "Loading test input data\n",
      "RMSE: 11.88477035597751;\n",
      "R2: 0.8294385302936675;\n"
     ]
    }
   ],
   "source": [
    "# model_path for used_cars.csv from local machine for model_lr_reg_lasso\n",
    "model_path = f\"../UsedCarsPricePrediction/models_joblib/model_lr_reg_lasso.joblib\"\n",
    "print(\"Loading test input data\")\n",
    "# test_data_directory for used_cars.csv from local machine\n",
    "test_data_directory = \"../UsedCarsPricePrediction/datasets\"\n",
    "test_features_data = os.path.join(test_data_directory, \"test_features.csv\")\n",
    "test_labels_data = os.path.join(test_data_directory, \"test_labels.csv\")\n",
    "evaluation_output_path = os.path.join(\"../UsedCarsPricePrediction/evaluation_results_json\", \"evaluation_lr_reg_lasso.json\")\n",
    "\n",
    "# from main.py in the current directory import the function evaluation_lr_reg_lasso\n",
    "from main import evaluation_lr_reg_lasso\n",
    "\n",
    "# call the function evaluation_lr_reg_lasso and pass the model_path, test_features_data, test_labels_data, evaluation_output_path\n",
    "evaluation_lr_reg_lasso(model_path, test_features_data, test_labels_data, evaluation_output_path)"
   ]
  },
  {
   "cell_type": "code",
   "execution_count": 20,
   "metadata": {},
   "outputs": [
    {
     "name": "stdout",
     "output_type": "stream",
     "text": [
      "RMSE: 19.380907317179734;\n",
      "Training Accuracy: 0.764793226938298\n",
      "Validation Accuracy: 0.7636390107775805\n",
      "Saving model to ../UsedCarsPricePrediction/models_joblib\\model_lr_reg_ridge.joblib\n"
     ]
    }
   ],
   "source": [
    "# model_output_directory for used_cars.csv from local machine for model_lr_reg\n",
    "model_output_directory = os.path.join(\"../UsedCarsPricePrediction/models_joblib\", \"model_lr_reg_ridge.joblib\")\n",
    "\n",
    "# from main.py in the current directory import the function training_lr_reg\n",
    "from main import training_lr_reg_ridge\n",
    "\n",
    "# call the function training_lr_reg and pass the train_features_data, train_labels_data, val_features_data, val_labels_data, model_output_directory\n",
    "training_lr_reg_ridge(train_features_data, train_labels_data, val_features_data, val_labels_data, model_output_directory)"
   ]
  },
  {
   "cell_type": "code",
   "execution_count": 21,
   "metadata": {},
   "outputs": [
    {
     "name": "stdout",
     "output_type": "stream",
     "text": [
      "Loading test input data\n",
      "RMSE: 11.803644404211763;\n",
      "R2: 0.8317591028087684;\n"
     ]
    }
   ],
   "source": [
    "# model_path for used_cars.csv from local machine for model_lr_reg\n",
    "model_path = f\"../UsedCarsPricePrediction/models_joblib/model_lr_reg_ridge.joblib\"\n",
    "print(\"Loading test input data\")\n",
    "# test_data_directory for used_cars.csv from local machine\n",
    "test_data_directory = \"../UsedCarsPricePrediction/datasets\"\n",
    "test_features_data = os.path.join(test_data_directory, \"test_features.csv\")\n",
    "test_labels_data = os.path.join(test_data_directory, \"test_labels.csv\")\n",
    "evaluation_output_path = os.path.join(\"../UsedCarsPricePrediction/evaluation_results_json\", \"evaluation_lr_reg_ridge.json\")\n",
    "\n",
    "# from main.py in the current directory import the function evaluation_lr_reg\n",
    "from main import evaluation_lr_reg_ridge\n",
    "\n",
    "# call the function evaluation_lr_reg and pass the model_path, test_features_data, test_labels_data, evaluation_output_path\n",
    "evaluation_lr_reg_ridge(model_path, test_features_data, test_labels_data, evaluation_output_path)"
   ]
  },
  {
   "cell_type": "code",
   "execution_count": 22,
   "metadata": {},
   "outputs": [
    {
     "name": "stdout",
     "output_type": "stream",
     "text": [
      "RMSE: 19.3793577173483;\n",
      "Training Accuracy: 0.7648688620886591\n",
      "Validation Accuracy: 0.7636768057374047\n",
      "Saving model to ../UsedCarsPricePrediction/models_joblib\\model_lr.joblib\n"
     ]
    }
   ],
   "source": [
    "# model_output_directory for used_cars.csv from local machine for model_lr\n",
    "model_output_directory = os.path.join(\"../UsedCarsPricePrediction/models_joblib\", \"model_lr.joblib\")\n",
    "\n",
    "# from main.py in the current directory import the function training_lr\n",
    "from main import training_lr\n",
    "\n",
    "# call the function training_lr and pass the train_features_data, train_labels_data, val_features_data, val_labels_data, model_output_directory\n",
    "training_lr(train_features_data, train_labels_data, val_features_data, val_labels_data, model_output_directory)"
   ]
  },
  {
   "cell_type": "code",
   "execution_count": 23,
   "metadata": {},
   "outputs": [
    {
     "name": "stdout",
     "output_type": "stream",
     "text": [
      "Loading test input data\n",
      "RMSE: 11.82246417300771;\n",
      "R2: 0.8312221874592235;\n"
     ]
    }
   ],
   "source": [
    "# model_path for used_cars.csv from local machine for model_lr\n",
    "model_path = f\"../UsedCarsPricePrediction/models_joblib/model_lr.joblib\"\n",
    "print(\"Loading test input data\")\n",
    "# test_data_directory for used_cars.csv from local machine\n",
    "test_data_directory = \"../UsedCarsPricePrediction/datasets\"\n",
    "test_features_data = os.path.join(test_data_directory, \"test_features.csv\")\n",
    "test_labels_data = os.path.join(test_data_directory, \"test_labels.csv\")\n",
    "evaluation_output_path = os.path.join(\"../UsedCarsPricePrediction/evaluation_results_json\", \"evaluation_lr.json\")\n",
    "\n",
    "# from main.py in the current directory import the function evaluation_lr\n",
    "from main import evaluation_lr\n",
    "\n",
    "# call the function evaluation_lr and pass the model_path, test_features_data, test_labels_data, evaluation_output_path\n",
    "evaluation_lr(model_path, test_features_data, test_labels_data, evaluation_output_path)"
   ]
  },
  {
   "cell_type": "code",
   "execution_count": 24,
   "metadata": {},
   "outputs": [
    {
     "name": "stdout",
     "output_type": "stream",
     "text": [
      "RMSE: 22.13644716861574;\n",
      "Training Accuracy: 0.9828503759331686\n",
      "Validation Accuracy: 0.6916503725956862\n",
      "Saving model to ../UsedCarsPricePrediction/models_joblib\\model_rfr.joblib\n"
     ]
    }
   ],
   "source": [
    "# model_output_directory for used_cars.csv from local machine for model_rfr\n",
    "model_output_directory = os.path.join(\"../UsedCarsPricePrediction/models_joblib\", \"model_rfr.joblib\")\n",
    "\n",
    "# from main.py in the current directory import the function training_rfr\n",
    "from main import training_rfr\n",
    "\n",
    "# call the function training_rfr and pass the train_features_data, train_labels_data, val_features_data, val_labels_data, model_output_directory\n",
    "training_rfr(train_features_data, train_labels_data, val_features_data, val_labels_data, model_output_directory)"
   ]
  },
  {
   "cell_type": "code",
   "execution_count": 25,
   "metadata": {},
   "outputs": [
    {
     "name": "stdout",
     "output_type": "stream",
     "text": [
      "Loading test input data\n",
      "RMSE: 7.397773727131262;\n",
      "R2: 0.9339152231492407;\n"
     ]
    }
   ],
   "source": [
    "# model_path for used_cars.csv from local machine for model_rfr\n",
    "model_path = f\"../UsedCarsPricePrediction/models_joblib/model_rfr.joblib\"\n",
    "print(\"Loading test input data\")\n",
    "# test_data_directory for used_cars.csv from local machine\n",
    "test_data_directory = \"../UsedCarsPricePrediction/datasets\"\n",
    "test_features_data = os.path.join(test_data_directory,\"test_features.csv\")\n",
    "test_labels_data = os.path.join(test_data_directory,\"test_labels.csv\")\n",
    "evaluation_output_path = os.path.join(\"../UsedCarsPricePrediction/evaluation_results_json\", \"evaluation_rfr.json\")\n",
    "\n",
    "# from main.py in the current directory import the function evaluation_rfr\n",
    "from main import evaluation_rfr\n",
    "\n",
    "# call the function evaluation_rfr and pass the model_path, test_features_data, test_labels_data, evaluation_output_path\n",
    "evaluation_rfr(model_path, test_features_data, test_labels_data, evaluation_output_path)"
   ]
  },
  {
   "cell_type": "code",
   "execution_count": 26,
   "metadata": {},
   "outputs": [
    {
     "name": "stdout",
     "output_type": "stream",
     "text": [
      "RMSE: 30.072622511341212;\n",
      "Training Accuracy: 0.8333191237936458\n",
      "Validation Accuracy: 0.4309240983329129\n",
      "Saving model to ../UsedCarsPricePrediction/models_joblib\\model_svr.joblib\n"
     ]
    }
   ],
   "source": [
    "# model_output_directory for used_cars.csv from local machine for model_svr\n",
    "model_output_directory = os.path.join(\"../UsedCarsPricePrediction/models_joblib\", \"model_svr.joblib\")\n",
    "\n",
    "# from main.py in the current directory import the function training_svr\n",
    "from main import training_svr\n",
    "\n",
    "# call the function training_svr and pass the train_features_data, train_labels_data, val_features_data, val_labels_data, model_output_directory\n",
    "training_svr(train_features_data, train_labels_data, val_features_data, val_labels_data, model_output_directory)"
   ]
  },
  {
   "cell_type": "code",
   "execution_count": 27,
   "metadata": {},
   "outputs": [
    {
     "name": "stdout",
     "output_type": "stream",
     "text": [
      "Loading test input data\n",
      "RMSE: 12.686073013767935;\n",
      "R2: 0.8056637787334887;\n"
     ]
    }
   ],
   "source": [
    "# model_path for used_cars.csv from local machine for model_svr\n",
    "model_path = f\"../UsedCarsPricePrediction/models_joblib/model_svr.joblib\"\n",
    "print(\"Loading test input data\")\n",
    "# test_data_directory for used_cars.csv from local machine\n",
    "test_data_directory = \"../UsedCarsPricePrediction/datasets\"\n",
    "test_features_data =os.path.join(test_data_directory,\"test_features.csv\")\n",
    "test_labels_data = os.path.join(test_data_directory,\"test_labels.csv\")\n",
    "evaluation_output_path = os.path.join(\"../UsedCarsPricePrediction/evaluation_results_json\", \"evaluation_svr.json\")\n",
    "\n",
    "# from main.py in the current directory import the function evaluation_svr\n",
    "from main import evaluation_svr\n",
    "\n",
    "# call the function evaluation_svr and pass the model_path, test_features_data, test_labels_data, evaluation_output_path\n",
    "evaluation_svr(model_path, test_features_data, test_labels_data, evaluation_output_path)"
   ]
  },
  {
   "cell_type": "code",
   "execution_count": 28,
   "metadata": {},
   "outputs": [
    {
     "name": "stdout",
     "output_type": "stream",
     "text": [
      "RMSE: 23.07856287869712;\n",
      "Training Accuracy: 0.9999999902077813\n",
      "Validation Accuracy: 0.6648454555772869\n",
      "Saving model to ../UsedCarsPricePrediction/models_joblib\\model_xgbr.joblib\n"
     ]
    }
   ],
   "source": [
    "# model_output_directory for used_cars.csv from local machine for model_xgbr\n",
    "model_output_directory = os.path.join(\"../UsedCarsPricePrediction/models_joblib\", \"model_xgbr.joblib\")\n",
    "\n",
    "# from main.py in the current directory import the function training_xgbr\n",
    "from main import training_xgbr\n",
    "\n",
    "# call the function training_xgbr and pass the train_features_data, train_labels_data, val_features_data, val_labels_data, model_output_directory\n",
    "training_xgbr(train_features_data, train_labels_data, val_features_data, val_labels_data, model_output_directory)"
   ]
  },
  {
   "cell_type": "code",
   "execution_count": 29,
   "metadata": {},
   "outputs": [
    {
     "name": "stdout",
     "output_type": "stream",
     "text": [
      "Loading test input data\n",
      "RMSE: 8.575832266542381;\n",
      "R2: 0.9111920394058313;\n"
     ]
    }
   ],
   "source": [
    "# model_path for used_cars.csv from local machine for model_xgbr\n",
    "model_path = f\"../UsedCarsPricePrediction/models_joblib/model_xgbr.joblib\"\n",
    "print(\"Loading test input data\")\n",
    "# test_data_directory for used_cars.csv from local machine\n",
    "test_data_directory = \"../UsedCarsPricePrediction/datasets\"\n",
    "test_features_data =os.path.join(test_data_directory,\"test_features.csv\")\n",
    "test_labels_data = os.path.join(test_data_directory,\"test_labels.csv\")\n",
    "evaluation_output_path = os.path.join(\"../UsedCarsPricePrediction/evaluation_results_json\", \"evaluation_xgbr.json\")\n",
    "\n",
    "# from main.py in the current directory import the function evaluation_xgbr\n",
    "from main import evaluation_xgbr\n",
    "\n",
    "# call the function evaluation_xgbr and pass the model_path, test_features_data, test_labels_data, evaluation_output_path\n",
    "evaluation_xgbr(model_path, test_features_data, test_labels_data, evaluation_output_path)"
   ]
  },
  {
   "cell_type": "code",
   "execution_count": 30,
   "metadata": {},
   "outputs": [
    {
     "name": "stdout",
     "output_type": "stream",
     "text": [
      "{'regression_metrics': {'mse': {'value': 139.77065912205086}, 'rmse': {'value': 11.82246417300771}, 'r2': {'value': 0.8312221874592235}}}\n",
      "MSE:  {'value': 139.77065912205086}\n",
      "RMSE:  {'value': 11.82246417300771}\n",
      "R2:  {'value': 0.8312221874592235}\n",
      "              mse        r2       rmse\n",
      "value  139.770659  0.831222  11.822464\n",
      "Index(['mse', 'r2', 'rmse'], dtype='object')\n"
     ]
    }
   ],
   "source": [
    "# separate all the values in evaluation_lr.json file into different variables and print them \n",
    "import json\n",
    "with open('../UsedCarsPricePrediction/evaluation_results_json/evaluation_lr.json') as f:\n",
    "    data = json.load(f)\n",
    "    print(data)\n",
    "    # split the data dictionary into two parts\n",
    "    # data1 = data['evaluation_results']\n",
    "    data2 = data['regression_metrics']\n",
    "    # get value from data2 dictionary\n",
    "    mse_lr = data2['mse']\n",
    "    rmse_lr = data2['rmse']\n",
    "    r2_lr = data2['r2']\n",
    "    # print the values\n",
    "    print(\"MSE: \", mse_lr)\n",
    "    print(\"RMSE: \", rmse_lr)\n",
    "    print(\"R2: \", r2_lr)\n",
    "    # convert the dictionary into list and then into dataframe and then transpose it \n",
    "    df_lr = pd.DataFrame.from_dict(data2, orient='index').T\n",
    "    print(df_lr)\n",
    "    print(df_lr.columns)"
   ]
  },
  {
   "cell_type": "code",
   "execution_count": 31,
   "metadata": {},
   "outputs": [
    {
     "name": "stdout",
     "output_type": "stream",
     "text": [
      "{'regression_metrics': {'mse': {'value': 139.77065912205086}, 'rmse': {'value': 11.82246417300771}, 'r2': {'value': 0.8312221874592235}}}\n",
      "MSE:  {'value': 139.77065912205086}\n",
      "RMSE:  {'value': 11.82246417300771}\n",
      "R2:  {'value': 0.8312221874592235}\n",
      "value    0.831222\n",
      "Name: r2, dtype: float64\n",
      "{'regression_metrics': {'mse': {'value': 54.727056117833556}, 'rmse': {'value': 7.397773727131262}, 'r2': {'value': 0.9339152231492407}}}\n",
      "MSE:  {'value': 54.727056117833556}\n",
      "RMSE:  {'value': 7.397773727131262}\n",
      "R2:  {'value': 0.9339152231492407}\n",
      "value    0.933915\n",
      "Name: r2, dtype: float64\n",
      "{'regression_metrics': {'mse': {'value': 48.9332341336533}, 'rmse': {'value': 6.995229383919679}, 'r2': {'value': 0.940911459747701}}}\n",
      "MSE:  {'value': 48.9332341336533}\n",
      "RMSE:  {'value': 6.995229383919679}\n",
      "R2:  {'value': 0.940911459747701}\n",
      "value    0.940911\n",
      "Name: r2, dtype: float64\n",
      "{'regression_metrics': {'mse': {'value': 54.82165210174996}, 'rmse': {'value': 7.404164510716247}, 'r2': {'value': 0.9338009952895394}}}\n",
      "MSE:  {'value': 54.82165210174996}\n",
      "RMSE:  {'value': 7.404164510716247}\n",
      "R2:  {'value': 0.9338009952895394}\n",
      "value    0.933801\n",
      "Name: r2, dtype: float64\n",
      "{'regression_metrics': {'mse': {'value': 72.91565749999998}, 'rmse': {'value': 8.539066547345792}, 'r2': {'value': 0.9119518699409144}}}\n",
      "MSE:  {'value': 72.91565749999998}\n",
      "RMSE:  {'value': 8.539066547345792}\n",
      "R2:  {'value': 0.9119518699409144}\n",
      "value    0.911952\n",
      "Name: r2, dtype: float64\n",
      "{'regression_metrics': {'mse': {'value': 107.18791210000003}, 'rmse': {'value': 10.353159522580537}, 'r2': {'value': 0.870566959842025}}}\n",
      "MSE:  {'value': 107.18791210000003}\n",
      "RMSE:  {'value': 10.353159522580537}\n",
      "R2:  {'value': 0.870566959842025}\n",
      "value    0.870567\n",
      "Name: r2, dtype: float64\n",
      "{'regression_metrics': {'mse': {'value': 141.2477664143218}, 'rmse': {'value': 11.88477035597751}, 'r2': {'value': 0.8294385302936675}}}\n",
      "MSE:  {'value': 141.2477664143218}\n",
      "RMSE:  {'value': 11.88477035597751}\n",
      "R2:  {'value': 0.8294385302936675}\n",
      "value    0.829439\n",
      "Name: r2, dtype: float64\n",
      "{'regression_metrics': {'mse': {'value': 139.32602122107966}, 'rmse': {'value': 11.803644404211763}, 'r2': {'value': 0.8317591028087684}}}\n",
      "MSE:  {'value': 139.32602122107966}\n",
      "RMSE:  {'value': 11.803644404211763}\n",
      "R2:  {'value': 0.8317591028087684}\n",
      "value    0.831759\n",
      "Name: r2, dtype: float64\n",
      "{'regression_metrics': {'mse': {'value': 160.93644851065105}, 'rmse': {'value': 12.686073013767935}, 'r2': {'value': 0.8056637787334887}}}\n",
      "MSE:  {'value': 160.93644851065105}\n",
      "RMSE:  {'value': 12.686073013767935}\n",
      "R2:  {'value': 0.8056637787334887}\n",
      "value    0.805664\n",
      "Name: r2, dtype: float64\n",
      "{'regression_metrics': {'mse': {'value': 73.54489906386944}, 'rmse': {'value': 8.575832266542381}, 'r2': {'value': 0.9111920394058313}}}\n",
      "MSE:  {'value': 73.54489906386944}\n",
      "RMSE:  {'value': 8.575832266542381}\n",
      "R2:  {'value': 0.9111920394058313}\n",
      "value    0.911192\n",
      "Name: r2, dtype: float64\n"
     ]
    },
    {
     "data": {
      "text/html": [
       "<div>\n",
       "<style scoped>\n",
       "    .dataframe tbody tr th:only-of-type {\n",
       "        vertical-align: middle;\n",
       "    }\n",
       "\n",
       "    .dataframe tbody tr th {\n",
       "        vertical-align: top;\n",
       "    }\n",
       "\n",
       "    .dataframe thead th {\n",
       "        text-align: right;\n",
       "    }\n",
       "</style>\n",
       "<table border=\"1\" class=\"dataframe\">\n",
       "  <thead>\n",
       "    <tr style=\"text-align: right;\">\n",
       "      <th></th>\n",
       "      <th>r2</th>\n",
       "      <th>r2</th>\n",
       "      <th>r2</th>\n",
       "      <th>r2</th>\n",
       "      <th>r2</th>\n",
       "      <th>r2</th>\n",
       "      <th>r2</th>\n",
       "      <th>r2</th>\n",
       "      <th>r2</th>\n",
       "      <th>r2</th>\n",
       "    </tr>\n",
       "  </thead>\n",
       "  <tbody>\n",
       "    <tr>\n",
       "      <th>value</th>\n",
       "      <td>0.831222</td>\n",
       "      <td>0.933915</td>\n",
       "      <td>0.940911</td>\n",
       "      <td>0.933801</td>\n",
       "      <td>0.911952</td>\n",
       "      <td>0.870567</td>\n",
       "      <td>0.829439</td>\n",
       "      <td>0.831759</td>\n",
       "      <td>0.805664</td>\n",
       "      <td>0.911192</td>\n",
       "    </tr>\n",
       "  </tbody>\n",
       "</table>\n",
       "</div>"
      ],
      "text/plain": [
       "             r2        r2        r2        r2        r2        r2        r2  \\\n",
       "value  0.831222  0.933915  0.940911  0.933801  0.911952  0.870567  0.829439   \n",
       "\n",
       "             r2        r2        r2  \n",
       "value  0.831759  0.805664  0.911192  "
      ]
     },
     "execution_count": 31,
     "metadata": {},
     "output_type": "execute_result"
    }
   ],
   "source": [
    "# for each json file in evaluation_results_json folder, separate all the values into different variables and print them. do the same as above for all the json files\n",
    "import json\n",
    "list_of_json_files = ['evaluation_lr.json', 'evaluation_rfr.json', 'evaluation_abr.json', 'evaluation_br.json', 'evaluation_dtr.json', 'evaluation_knn.json', 'evaluation_lr_reg_lasso.json', 'evaluation_lr_reg_ridge.json', 'evaluation_svr.json', 'evaluation_xgbr.json']\n",
    "combined_R2 = []\n",
    "for json_file in list_of_json_files:\n",
    "    with open(f'../UsedCarsPricePrediction/evaluation_results_json/{json_file}') as f:\n",
    "        data = json.load(f)\n",
    "        print(data)\n",
    "        # split the data dictionary into two parts\n",
    "        # data1 = data['evaluation_results']\n",
    "        data2 = data['regression_metrics']\n",
    "        # get value from data2 dictionary\n",
    "        mse = data2['mse']\n",
    "        rmse = data2['rmse']\n",
    "        r2 = data2['r2']\n",
    "        # print the values\n",
    "        print(\"MSE: \", mse)\n",
    "        print(\"RMSE: \", rmse)\n",
    "        print(\"R2: \", r2)\n",
    "#         # combine all the r2 values into a list\n",
    "#         combined_R2.append(r2)\n",
    "#         # # convert the dictionary into list and then into dataframe and then transpose it \n",
    "        df = pd.DataFrame.from_dict(data2, orient='index').T\n",
    "        # get r2 column from the dataframe\n",
    "        df_r2 = df['r2']\n",
    "        print(df_r2)\n",
    "        # combine all the r2 values into a list\n",
    "        combined_R2.append(df_r2)\n",
    "        # \n",
    "#         # print(df.columns)\n",
    "# get the combined_R2 list and convert it into a dataframe\n",
    "df_combined_R2 = pd.DataFrame(combined_R2)\n",
    "# transpose the dataframe\n",
    "df_combined_R2 = df_combined_R2.T\n",
    "# print the dataframe\n",
    "df_combined_R2"
   ]
  },
  {
   "cell_type": "code",
   "execution_count": 32,
   "metadata": {},
   "outputs": [
    {
     "data": {
      "text/html": [
       "<div>\n",
       "<style scoped>\n",
       "    .dataframe tbody tr th:only-of-type {\n",
       "        vertical-align: middle;\n",
       "    }\n",
       "\n",
       "    .dataframe tbody tr th {\n",
       "        vertical-align: top;\n",
       "    }\n",
       "\n",
       "    .dataframe thead th {\n",
       "        text-align: right;\n",
       "    }\n",
       "</style>\n",
       "<table border=\"1\" class=\"dataframe\">\n",
       "  <thead>\n",
       "    <tr style=\"text-align: right;\">\n",
       "      <th></th>\n",
       "      <th>evaluation_lr.json</th>\n",
       "      <th>evaluation_rfr.json</th>\n",
       "      <th>evaluation_abr.json</th>\n",
       "      <th>evaluation_br.json</th>\n",
       "      <th>evaluation_dtr.json</th>\n",
       "      <th>evaluation_knn.json</th>\n",
       "      <th>evaluation_lr_reg_lasso.json</th>\n",
       "      <th>evaluation_lr_reg_ridge.json</th>\n",
       "      <th>evaluation_svr.json</th>\n",
       "      <th>evaluation_xgbr.json</th>\n",
       "    </tr>\n",
       "  </thead>\n",
       "  <tbody>\n",
       "    <tr>\n",
       "      <th>value</th>\n",
       "      <td>0.831222</td>\n",
       "      <td>0.933915</td>\n",
       "      <td>0.940911</td>\n",
       "      <td>0.933801</td>\n",
       "      <td>0.911952</td>\n",
       "      <td>0.870567</td>\n",
       "      <td>0.829439</td>\n",
       "      <td>0.831759</td>\n",
       "      <td>0.805664</td>\n",
       "      <td>0.911192</td>\n",
       "    </tr>\n",
       "  </tbody>\n",
       "</table>\n",
       "</div>"
      ],
      "text/plain": [
       "       evaluation_lr.json  evaluation_rfr.json  evaluation_abr.json  \\\n",
       "value            0.831222             0.933915             0.940911   \n",
       "\n",
       "       evaluation_br.json  evaluation_dtr.json  evaluation_knn.json  \\\n",
       "value            0.933801             0.911952             0.870567   \n",
       "\n",
       "       evaluation_lr_reg_lasso.json  evaluation_lr_reg_ridge.json  \\\n",
       "value                      0.829439                      0.831759   \n",
       "\n",
       "       evaluation_svr.json  evaluation_xgbr.json  \n",
       "value             0.805664              0.911192  "
      ]
     },
     "execution_count": 32,
     "metadata": {},
     "output_type": "execute_result"
    }
   ],
   "source": [
    "# to the column names of df_combined_R2 dataframe, assign the list_of_json_files list\n",
    "df_combined_R2.columns = list_of_json_files\n",
    "# print the dataframe\n",
    "df_combined_R2"
   ]
  },
  {
   "cell_type": "code",
   "execution_count": 33,
   "metadata": {},
   "outputs": [
    {
     "data": {
      "text/plain": [
       "evaluation_abr.json     0.940911\n",
       "evaluation_rfr.json     0.933915\n",
       "evaluation_br.json      0.933801\n",
       "evaluation_dtr.json     0.911952\n",
       "evaluation_xgbr.json    0.911192\n",
       "Name: value, dtype: float64"
      ]
     },
     "execution_count": 33,
     "metadata": {},
     "output_type": "execute_result"
    }
   ],
   "source": [
    "# get value of first row of df_combined_R2 dataframe\n",
    "df_combined_R2.iloc[0].sort_values(ascending=False).head(5)"
   ]
  },
  {
   "cell_type": "code",
   "execution_count": 35,
   "metadata": {},
   "outputs": [
    {
     "name": "stdout",
     "output_type": "stream",
     "text": [
      "AdaBoostRegressor(n_estimators=100, random_state=42)\n"
     ]
    }
   ],
   "source": [
    "# load model_abr.joblib file from models_joblib folder\n",
    "model_abr = joblib.load('../UsedCarsPricePrediction/models_joblib/model_abr.joblib')\n",
    "# print the model_abr\n",
    "print(model_abr)"
   ]
  },
  {
   "cell_type": "code",
   "execution_count": 137,
   "metadata": {},
   "outputs": [
    {
     "data": {
      "text/html": [
       "<div>\n",
       "<style scoped>\n",
       "    .dataframe tbody tr th:only-of-type {\n",
       "        vertical-align: middle;\n",
       "    }\n",
       "\n",
       "    .dataframe tbody tr th {\n",
       "        vertical-align: top;\n",
       "    }\n",
       "\n",
       "    .dataframe thead th {\n",
       "        text-align: right;\n",
       "    }\n",
       "</style>\n",
       "<table border=\"1\" class=\"dataframe\">\n",
       "  <thead>\n",
       "    <tr style=\"text-align: right;\">\n",
       "      <th></th>\n",
       "      <th>Segment</th>\n",
       "      <th>Kilometers_Driven</th>\n",
       "      <th>Mileage</th>\n",
       "      <th>Engine</th>\n",
       "      <th>Power</th>\n",
       "      <th>Seats</th>\n",
       "      <th>price</th>\n",
       "    </tr>\n",
       "  </thead>\n",
       "  <tbody>\n",
       "    <tr>\n",
       "      <th>0</th>\n",
       "      <td>non-luxury segment</td>\n",
       "      <td>72000</td>\n",
       "      <td>26.60</td>\n",
       "      <td>998</td>\n",
       "      <td>58.16</td>\n",
       "      <td>5</td>\n",
       "      <td>5.51</td>\n",
       "    </tr>\n",
       "    <tr>\n",
       "      <th>1</th>\n",
       "      <td>non-luxury segment</td>\n",
       "      <td>41000</td>\n",
       "      <td>19.67</td>\n",
       "      <td>1582</td>\n",
       "      <td>126.20</td>\n",
       "      <td>5</td>\n",
       "      <td>16.06</td>\n",
       "    </tr>\n",
       "    <tr>\n",
       "      <th>2</th>\n",
       "      <td>non-luxury segment</td>\n",
       "      <td>46000</td>\n",
       "      <td>18.20</td>\n",
       "      <td>1199</td>\n",
       "      <td>88.70</td>\n",
       "      <td>5</td>\n",
       "      <td>8.61</td>\n",
       "    </tr>\n",
       "    <tr>\n",
       "      <th>3</th>\n",
       "      <td>non-luxury segment</td>\n",
       "      <td>87000</td>\n",
       "      <td>20.77</td>\n",
       "      <td>1248</td>\n",
       "      <td>88.76</td>\n",
       "      <td>7</td>\n",
       "      <td>11.27</td>\n",
       "    </tr>\n",
       "    <tr>\n",
       "      <th>4</th>\n",
       "      <td>non-luxury segment</td>\n",
       "      <td>75000</td>\n",
       "      <td>21.10</td>\n",
       "      <td>814</td>\n",
       "      <td>55.20</td>\n",
       "      <td>5</td>\n",
       "      <td>10.25</td>\n",
       "    </tr>\n",
       "  </tbody>\n",
       "</table>\n",
       "</div>"
      ],
      "text/plain": [
       "              Segment  Kilometers_Driven  Mileage  Engine   Power  Seats  \\\n",
       "0  non-luxury segment              72000    26.60     998   58.16      5   \n",
       "1  non-luxury segment              41000    19.67    1582  126.20      5   \n",
       "2  non-luxury segment              46000    18.20    1199   88.70      5   \n",
       "3  non-luxury segment              87000    20.77    1248   88.76      7   \n",
       "4  non-luxury segment              75000    21.10     814   55.20      5   \n",
       "\n",
       "   price  \n",
       "0   5.51  \n",
       "1  16.06  \n",
       "2   8.61  \n",
       "3  11.27  \n",
       "4  10.25  "
      ]
     },
     "execution_count": 137,
     "metadata": {},
     "output_type": "execute_result"
    }
   ],
   "source": [
    "data = pd.read_csv('../UsedCarsPricePrediction/datasets/used_cars.csv')\n",
    "data.head()"
   ]
  },
  {
   "cell_type": "code",
   "execution_count": 152,
   "metadata": {},
   "outputs": [
    {
     "data": {
      "text/plain": [
       "Segment              non-luxury segment\n",
       "Kilometers_Driven                 60000\n",
       "Mileage                            16.8\n",
       "Engine                             1497\n",
       "Power                             116.3\n",
       "Seats                                 5\n",
       "price                             13.58\n",
       "Name: 10, dtype: object"
      ]
     },
     "execution_count": 152,
     "metadata": {},
     "output_type": "execute_result"
    }
   ],
   "source": [
    "customer = data.iloc[10]\n",
    "customer"
   ]
  },
  {
   "cell_type": "code",
   "execution_count": 153,
   "metadata": {},
   "outputs": [
    {
     "name": "stdout",
     "output_type": "stream",
     "text": [
      "The predicted used car price is: {'prediction': 17.2449}\n"
     ]
    }
   ],
   "source": [
    "import requests\n",
    "import json\n",
    "url = 'http://localhost:5000/predict'\n",
    "customer = customer.to_json()\n",
    "r = requests.post(url, customer)\n",
    "print(\"The predicted used car price is: {}\".format(r.json()))"
   ]
  }
 ],
 "metadata": {
  "kernelspec": {
   "display_name": "Python 3",
   "language": "python",
   "name": "python3"
  },
  "language_info": {
   "codemirror_mode": {
    "name": "ipython",
    "version": 3
   },
   "file_extension": ".py",
   "mimetype": "text/x-python",
   "name": "python",
   "nbconvert_exporter": "python",
   "pygments_lexer": "ipython3",
   "version": "3.7.16"
  }
 },
 "nbformat": 4,
 "nbformat_minor": 2
}
