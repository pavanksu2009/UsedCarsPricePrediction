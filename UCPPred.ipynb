{
 "cells": [
  {
   "cell_type": "code",
   "execution_count": 1,
   "metadata": {},
   "outputs": [],
   "source": [
    "# import necessary libraries\n",
    "import os\n",
    "import numpy as np\n",
    "import pandas as pd\n",
    "import matplotlib.pyplot as plt\n",
    "import seaborn as sns\n",
    "from sklearn import preprocessing\n",
    "from sklearn.model_selection import train_test_split\n",
    "from sklearn.metrics import accuracy_score, confusion_matrix, classification_report\n",
    "from sklearn.ensemble import RandomForestClassifier\n",
    "from sklearn.model_selection import GridSearchCV\n",
    "from sklearn.model_selection import RandomizedSearchCV\n",
    "from sklearn.model_selection import cross_val_score\n",
    "import joblib\n",
    "import warnings\n",
    "warnings.filterwarnings(\"ignore\")"
   ]
  },
  {
   "cell_type": "code",
   "execution_count": 2,
   "metadata": {},
   "outputs": [],
   "source": [
    "# create datasets, evaluation_results_json, models_joblib and training_evaluation_py folders if they don't exist already\n",
    "if not os.path.exists('datasets'):\n",
    "    os.makedirs('datasets')\n",
    "if not os.path.exists('evaluation_results_json'):\n",
    "    os.makedirs('evaluation_results_json')\n",
    "if not os.path.exists('models_joblib'):\n",
    "    os.makedirs('models_joblib')\n",
    "if not os.path.exists('training_evaluation_py'):\n",
    "    os.makedirs('training_evaluation_py')"
   ]
  },
  {
   "cell_type": "code",
   "execution_count": 3,
   "metadata": {},
   "outputs": [],
   "source": [
    "# get the data path of used_cars.csv file present in the train folder \n",
    "input_data_path = '../UsedCarsPricePrediction/datasets/used_cars.csv'\n",
    "target = 'price'\n",
    "numeric_features = ['Kilometers_Driven', 'Mileage', 'Engine', 'Power', 'Seats']\n",
    "catergorical_features = ['Segment']\n",
    "# train_features_output_path for used_cars.csv from local machine\n",
    "train_features_output_path = os.path.join(\"../UsedCarsPricePrediction/datasets\", \"train_features.csv\")\n",
    "# train_labels_output_path for used_cars.csv from local machine\n",
    "train_labels_output_path = os.path.join(\"../UsedCarsPricePrediction/datasets\", \"train_labels.csv\")\n",
    "\n",
    "# validation set for used_cars.csv from local machine\n",
    "val_features_output_path = os.path.join(\"../UsedCarsPricePrediction/datasets\", \"val_features.csv\")\n",
    "val_labels_output_path = os.path.join(\"../UsedCarsPricePrediction/datasets\", \"val_labels.csv\")\n",
    "\n",
    "# test_features_output_path for used_cars.csv from local machine\n",
    "test_features_output_path = os.path.join(\"../UsedCarsPricePrediction/datasets\", \"test_features.csv\")\n",
    "# test_labels_output_path for used_cars.csv from local machine\n",
    "test_labels_output_path = os.path.join(\"../UsedCarsPricePrediction/datasets\", \"test_labels.csv\")\n"
   ]
  },
  {
   "cell_type": "code",
   "execution_count": 4,
   "metadata": {},
   "outputs": [],
   "source": [
    "# from main.py in the current directory import the function preprocess \n",
    "from main import preprocess\n",
    "\n",
    "# call the function preprocess and pass the input_data_path, target, numeric_features, catergorical_features, train_features_output_path, train_labels_output_path, val_features_output_path, val_labels_output_path, test_features_output_path, test_labels_output_path\n",
    "preprocess(input_data_path, target, numeric_features, catergorical_features, train_features_output_path, train_labels_output_path, val_features_output_path, val_labels_output_path, test_features_output_path, test_labels_output_path)"
   ]
  },
  {
   "cell_type": "code",
   "execution_count": 5,
   "metadata": {},
   "outputs": [],
   "source": [
    "# training_data_directory for used_cars.csv from local machine\n",
    "training_data_directory = \"../UsedCarsPricePrediction/datasets\"\n",
    "# validation_data_directory for used_cars.csv from local machine\n",
    "validation_data_directory = \"../UsedCarsPricePrediction/datasets\"\n",
    "# test_data_directory for used_cars.csv from local machine\n",
    "test_data_directory = \"../UsedCarsPricePrediction/datasets\"\n",
    "\n",
    "train_features_data = os.path.join(training_data_directory, \"train_features.csv\") # this\n",
    "train_labels_data = os.path.join(training_data_directory, \"train_labels.csv\")\n",
    "\n",
    "val_features_data = os.path.join(validation_data_directory, \"val_features.csv\")\n",
    "val_labels_data = os.path.join(validation_data_directory, \"val_labels.csv\")\n",
    "\n",
    "test_features_data = os.path.join(test_data_directory, \"test_features.csv\")\n",
    "test_labels_data = os.path.join(test_data_directory, \"test_labels.csv\")"
   ]
  },
  {
   "cell_type": "code",
   "execution_count": 6,
   "metadata": {},
   "outputs": [
    {
     "name": "stdout",
     "output_type": "stream",
     "text": [
      "RMSE: 19.3793577173483;\n",
      "Training Accuracy: 0.7648688620886591\n",
      "Validation Accuracy: 0.7636768057374047\n",
      "Saving model to ../UsedCarsPricePrediction/models_joblib\\model_lr.joblib\n"
     ]
    }
   ],
   "source": [
    "# model_output_directory for used_cars.csv from local machine for linear regression\n",
    "model_output_directory = os.path.join(\"../UsedCarsPricePrediction/models_joblib\", \"model_lr.joblib\")\n",
    "\n",
    "# from main.py in the current directory import the function training_lr\n",
    "from main import training_lr\n",
    "\n",
    "# call the function training_lr and pass the train_features_data, train_labels_data, val_features_data, val_labels_data, model_output_directory\n",
    "training_lr(train_features_data, train_labels_data, val_features_data, val_labels_data, model_output_directory)"
   ]
  },
  {
   "cell_type": "code",
   "execution_count": 7,
   "metadata": {},
   "outputs": [
    {
     "name": "stdout",
     "output_type": "stream",
     "text": [
      "Loading test input data\n",
      "RMSE: 11.82246417300771;\n",
      "R2: 0.8312221874592235;\n"
     ]
    }
   ],
   "source": [
    "# model_path for used_cars.csv from local machine for linear regression\n",
    "model_path = f\"../UsedCarsPricePrediction/models_joblib/model_lr.joblib\"\n",
    "print(\"Loading test input data\")\n",
    "# test_data_directory for used_cars.csv from local machine\n",
    "test_data_directory = \"../UsedCarsPricePrediction/datasets\"\n",
    "test_features_data = os.path.join(test_data_directory, \"test_features.csv\")\n",
    "test_labels_data = os.path.join(test_data_directory, \"test_labels.csv\")\n",
    "evaluation_output_path = os.path.join(\"../UsedCarsPricePrediction/evaluation_results_json\", \"evaluation_lr.json\")\n",
    "\n",
    "# from main.py in the current directory import the function evaluation_lr\n",
    "from main import evaluation_lr\n",
    "\n",
    "# call the function evaluation_lr and pass the model_path, test_features_data, test_labels_data, evaluation_output_path\n",
    "evaluation_lr(model_path, test_features_data, test_labels_data, evaluation_output_path)"
   ]
  },
  {
   "cell_type": "code",
   "execution_count": 8,
   "metadata": {},
   "outputs": [
    {
     "name": "stdout",
     "output_type": "stream",
     "text": [
      "RMSE: 22.13644716861574;\n",
      "Training Accuracy: 0.9828503759331686\n",
      "Validation Accuracy: 0.6916503725956862\n",
      "Saving model to ../UsedCarsPricePrediction/models_joblib\\model_rfr.joblib\n"
     ]
    }
   ],
   "source": [
    "# model_output_directory for used_cars.csv from local machine for random forest regressor \n",
    "model_output_directory = os.path.join(\"../UsedCarsPricePrediction/models_joblib\", \"model_rfr.joblib\")\n",
    "\n",
    "# from main.py in the current directory import the function training_rfr\n",
    "from main import training_rfr\n",
    "\n",
    "# call the function training_rfr and pass the train_features_data, train_labels_data, val_features_data, val_labels_data, model_output_directory\n",
    "training_rfr(train_features_data, train_labels_data, val_features_data, val_labels_data, model_output_directory)"
   ]
  },
  {
   "cell_type": "code",
   "execution_count": 9,
   "metadata": {},
   "outputs": [
    {
     "name": "stdout",
     "output_type": "stream",
     "text": [
      "Loading test input data\n",
      "RMSE: 7.397773727131262;\n",
      "R2: 0.9339152231492407;\n"
     ]
    }
   ],
   "source": [
    "# model_path for used_cars.csv from local machine for random forest regressor\n",
    "model_path = f\"../UsedCarsPricePrediction/models_joblib/model_rfr.joblib\"\n",
    "print(\"Loading test input data\")\n",
    "# test_data_directory for used_cars.csv from local machine\n",
    "test_data_directory = \"../UsedCarsPricePrediction/datasets\"\n",
    "test_features_data = os.path.join(test_data_directory, \"test_features.csv\")\n",
    "test_labels_data = os.path.join(test_data_directory, \"test_labels.csv\")\n",
    "evaluation_output_path = os.path.join(\"../UsedCarsPricePrediction/evaluation_results_json\", \"evaluation_rfr.json\")\n",
    "\n",
    "# from main.py in the current directory import the function evaluation_rfr\n",
    "from main import evaluation_rfr\n",
    "\n",
    "# call the function evaluation_rfr and pass the model_path, test_features_data, test_labels_data, evaluation_output_path\n",
    "evaluation_rfr(model_path, test_features_data, test_labels_data, evaluation_output_path)"
   ]
  },
  {
   "cell_type": "code",
   "execution_count": 10,
   "metadata": {},
   "outputs": [
    {
     "name": "stdout",
     "output_type": "stream",
     "text": [
      "RMSE: 22.535073087722964;\n",
      "Training Accuracy: 0.9543936924491306\n",
      "Validation Accuracy: 0.6804450631181782\n",
      "Saving model to ../UsedCarsPricePrediction/models_joblib\\model_abr.joblib\n"
     ]
    }
   ],
   "source": [
    "# model_output_directory for used_cars.csv from local machine for model_abr\n",
    "model_output_directory = os.path.join(\"../UsedCarsPricePrediction/models_joblib\", \"model_abr.joblib\")\n",
    "\n",
    "# from main.py in the current directory import the function training_abr\n",
    "from main import training_abr\n",
    "\n",
    "# call the function training_abr and pass the train_features_data, train_labels_data, val_features_data, val_labels_data, model_output_directory\n",
    "training_abr(train_features_data, train_labels_data, val_features_data, val_labels_data, model_output_directory)"
   ]
  },
  {
   "cell_type": "code",
   "execution_count": 11,
   "metadata": {},
   "outputs": [
    {
     "name": "stdout",
     "output_type": "stream",
     "text": [
      "Loading test input data\n",
      "RMSE: 6.995229383919679;\n",
      "R2: 0.940911459747701;\n"
     ]
    }
   ],
   "source": [
    "# model_path for used_cars.csv from local machine for model_abr \n",
    "model_path = f\"../UsedCarsPricePrediction/models_joblib/model_abr.joblib\"\n",
    "print(\"Loading test input data\")\n",
    "# test_data_directory for used_cars.csv from local machine\n",
    "test_data_directory = \"../UsedCarsPricePrediction/datasets\"\n",
    "test_features_data = os.path.join(test_data_directory, \"test_features.csv\")\n",
    "test_labels_data = os.path.join(test_data_directory, \"test_labels.csv\")\n",
    "evaluation_output_path = os.path.join(\"../UsedCarsPricePrediction/evaluation_results_json\", \"evaluation_abr.json\")\n",
    "\n",
    "# from main.py in the current directory import the function evaluation_abr\n",
    "from main import evaluation_abr\n",
    "\n",
    "# call the function evaluation_abr and pass the model_path, test_features_data, test_labels_data, evaluation_output_path\n",
    "evaluation_abr(model_path, test_features_data, test_labels_data, evaluation_output_path)"
   ]
  },
  {
   "cell_type": "code",
   "execution_count": 12,
   "metadata": {},
   "outputs": [
    {
     "name": "stdout",
     "output_type": "stream",
     "text": [
      "RMSE: 22.325611764919042;\n",
      "Training Accuracy: 0.9830871633658333\n",
      "Validation Accuracy: 0.6863579195038911\n",
      "Saving model to ../UsedCarsPricePrediction/models_joblib\\model_br.joblib\n"
     ]
    }
   ],
   "source": [
    "# model_output_directory for used_cars.csv from local machine for model_br\n",
    "model_output_directory = os.path.join(\"../UsedCarsPricePrediction/models_joblib\", \"model_br.joblib\")\n",
    "\n",
    "# from main.py in the current directory import the function training_br\n",
    "from main import training_br\n",
    "\n",
    "# call the function training_br and pass the train_features_data, train_labels_data, val_features_data, val_labels_data, model_output_directory\n",
    "training_br(train_features_data, train_labels_data, val_features_data, val_labels_data, model_output_directory)"
   ]
  },
  {
   "cell_type": "code",
   "execution_count": 13,
   "metadata": {},
   "outputs": [
    {
     "name": "stdout",
     "output_type": "stream",
     "text": [
      "Loading test input data\n",
      "RMSE: 7.404164510716247;\n",
      "R2: 0.9338009952895394;\n"
     ]
    }
   ],
   "source": [
    "# model_path for used_cars.csv from local machine for model_br\n",
    "model_path = f\"../UsedCarsPricePrediction/models_joblib/model_br.joblib\"\n",
    "print(\"Loading test input data\")\n",
    "# test_data_directory for used_cars.csv from local machine\n",
    "test_data_directory = \"../UsedCarsPricePrediction/datasets\"\n",
    "test_features_data = os.path.join(test_data_directory, \"test_features.csv\")\n",
    "test_labels_data = os.path.join(test_data_directory, \"test_labels.csv\")\n",
    "evaluation_output_path = os.path.join(\"../UsedCarsPricePrediction/evaluation_results_json\", \"evaluation_br.json\")\n",
    "\n",
    "# from main.py in the current directory import the function evaluation_br\n",
    "from main import evaluation_br\n",
    "\n",
    "# call the function evaluation_br and pass the model_path, test_features_data, test_labels_data, evaluation_output_path\n",
    "evaluation_br(model_path, test_features_data, test_labels_data, evaluation_output_path)"
   ]
  },
  {
   "cell_type": "code",
   "execution_count": 14,
   "metadata": {},
   "outputs": [
    {
     "name": "stdout",
     "output_type": "stream",
     "text": [
      "RMSE: 22.568621936080856;\n",
      "Training Accuracy: 1.0\n",
      "Validation Accuracy: 0.6794928869045613\n",
      "Saving model to ../UsedCarsPricePrediction/models_joblib\\model_dtr.joblib\n"
     ]
    }
   ],
   "source": [
    "# model_output_directory for used_cars.csv from local machine for model_dtr\n",
    "model_output_directory = os.path.join(\"../UsedCarsPricePrediction/models_joblib\", \"model_dtr.joblib\")\n",
    "\n",
    "# from main.py in the current directory import the function training_dtr\n",
    "from main import training_dtr\n",
    "\n",
    "# call the function training_dtr and pass the train_features_data, train_labels_data, val_features_data, val_labels_data, model_output_directory\n",
    "training_dtr(train_features_data, train_labels_data, val_features_data, val_labels_data, model_output_directory)"
   ]
  },
  {
   "cell_type": "code",
   "execution_count": 15,
   "metadata": {},
   "outputs": [
    {
     "name": "stdout",
     "output_type": "stream",
     "text": [
      "Loading test input data\n",
      "RMSE: 8.613734962256501;\n",
      "R2: 0.9104052936975868;\n"
     ]
    }
   ],
   "source": [
    "# model_path for used_cars.csv from local machine for model_dtr\n",
    "model_path = f\"../UsedCarsPricePrediction/models_joblib/model_dtr.joblib\"\n",
    "print(\"Loading test input data\")\n",
    "# test_data_directory for used_cars.csv from local machine\n",
    "test_data_directory = \"../UsedCarsPricePrediction/datasets\"\n",
    "test_features_data = os.path.join(test_data_directory, \"test_features.csv\")\n",
    "test_labels_data = os.path.join(test_data_directory, \"test_labels.csv\")\n",
    "evaluation_output_path = os.path.join(\"../UsedCarsPricePrediction/evaluation_results_json\", \"evaluation_dtr.json\")\n",
    "\n",
    "# from main.py in the current directory import the function evaluation_dtr\n",
    "from main import evaluation_dtr\n",
    "\n",
    "# call the function evaluation_dtr and pass the model_path, test_features_data, test_labels_data, evaluation_output_path\n",
    "evaluation_dtr(model_path, test_features_data, test_labels_data, evaluation_output_path)"
   ]
  },
  {
   "cell_type": "code",
   "execution_count": 16,
   "metadata": {},
   "outputs": [
    {
     "name": "stdout",
     "output_type": "stream",
     "text": [
      "RMSE: 24.10221509075981;\n",
      "Training Accuracy: 0.8259962155986728\n",
      "Validation Accuracy: 0.6344544467595274\n",
      "Saving model to ../UsedCarsPricePrediction/models_joblib\\model_knn.joblib\n"
     ]
    }
   ],
   "source": [
    "# model_output_directory for used_cars.csv from local machine for model_knn\n",
    "model_output_directory = os.path.join(\"../UsedCarsPricePrediction/models_joblib\", \"model_knn.joblib\")\n",
    "\n",
    "# from main.py in the current directory import the function training_knn\n",
    "from main import training_knn\n",
    "\n",
    "# call the function training_knn and pass the train_features_data, train_labels_data, val_features_data, val_labels_data, model_output_directory\n",
    "training_knn(train_features_data, train_labels_data, val_features_data, val_labels_data, model_output_directory)"
   ]
  },
  {
   "cell_type": "code",
   "execution_count": 17,
   "metadata": {},
   "outputs": [
    {
     "name": "stdout",
     "output_type": "stream",
     "text": [
      "Loading test input data\n",
      "RMSE: 10.353159522580537;\n",
      "R2: 0.870566959842025;\n"
     ]
    }
   ],
   "source": [
    "# model_path for used_cars.csv from local machine for model_knn\n",
    "model_path = f\"../UsedCarsPricePrediction/models_joblib/model_knn.joblib\"\n",
    "print(\"Loading test input data\")\n",
    "# test_data_directory for used_cars.csv from local machine\n",
    "test_data_directory = \"../UsedCarsPricePrediction/datasets\"\n",
    "test_features_data = os.path.join(test_data_directory, \"test_features.csv\")\n",
    "test_labels_data = os.path.join(test_data_directory, \"test_labels.csv\")\n",
    "evaluation_output_path = os.path.join(\"../UsedCarsPricePrediction/evaluation_results_json\", \"evaluation_knn.json\")\n",
    "\n",
    "# from main.py in the current directory import the function evaluation_knn\n",
    "from main import evaluation_knn\n",
    "\n",
    "# call the function evaluation_knn and pass the model_path, test_features_data, test_labels_data, evaluation_output_path\n",
    "evaluation_knn(model_path, test_features_data, test_labels_data, evaluation_output_path)"
   ]
  },
  {
   "cell_type": "code",
   "execution_count": 18,
   "metadata": {},
   "outputs": [
    {
     "name": "stdout",
     "output_type": "stream",
     "text": [
      "RMSE: 19.965552413964623;\n",
      "Training Accuracy: 0.7577516310631337\n",
      "Validation Accuracy: 0.7491637777684657\n",
      "Saving model to ../UsedCarsPricePrediction/models_joblib\\model_lr_reg_lasso.joblib\n"
     ]
    }
   ],
   "source": [
    "# model_output_directory for used_cars.csv from local machine for model_lr_reg_lasso\n",
    "model_output_directory = os.path.join(\"../UsedCarsPricePrediction/models_joblib\", \"model_lr_reg_lasso.joblib\")\n",
    "\n",
    "# from main.py in the current directory import the function training_lr_reg_lasso\n",
    "from main import training_lr_reg_lasso\n",
    "\n",
    "# call the function training_lr_reg_lasso and pass the train_features_data, train_labels_data, val_features_data, val_labels_data, model_output_directory\n",
    "training_lr_reg_lasso(train_features_data, train_labels_data, val_features_data, val_labels_data, model_output_directory)"
   ]
  },
  {
   "cell_type": "code",
   "execution_count": 19,
   "metadata": {},
   "outputs": [
    {
     "name": "stdout",
     "output_type": "stream",
     "text": [
      "Loading test input data\n",
      "RMSE: 11.88477035597751;\n",
      "R2: 0.8294385302936675;\n"
     ]
    }
   ],
   "source": [
    "# model_path for used_cars.csv from local machine for model_lr_reg_lasso\n",
    "model_path = f\"../UsedCarsPricePrediction/models_joblib/model_lr_reg_lasso.joblib\"\n",
    "print(\"Loading test input data\")\n",
    "# test_data_directory for used_cars.csv from local machine\n",
    "test_data_directory = \"../UsedCarsPricePrediction/datasets\"\n",
    "test_features_data = os.path.join(test_data_directory, \"test_features.csv\")\n",
    "test_labels_data = os.path.join(test_data_directory, \"test_labels.csv\")\n",
    "evaluation_output_path = os.path.join(\"../UsedCarsPricePrediction/evaluation_results_json\", \"evaluation_lr_reg_lasso.json\")\n",
    "\n",
    "# from main.py in the current directory import the function evaluation_lr_reg_lasso\n",
    "from main import evaluation_lr_reg_lasso\n",
    "\n",
    "# call the function evaluation_lr_reg_lasso and pass the model_path, test_features_data, test_labels_data, evaluation_output_path\n",
    "evaluation_lr_reg_lasso(model_path, test_features_data, test_labels_data, evaluation_output_path)"
   ]
  },
  {
   "cell_type": "code",
   "execution_count": 20,
   "metadata": {},
   "outputs": [
    {
     "name": "stdout",
     "output_type": "stream",
     "text": [
      "RMSE: 19.380907317179734;\n",
      "Training Accuracy: 0.764793226938298\n",
      "Validation Accuracy: 0.7636390107775805\n",
      "Saving model to ../UsedCarsPricePrediction/models_joblib\\model_lr_reg_ridge.joblib\n"
     ]
    }
   ],
   "source": [
    "# model_output_directory for used_cars.csv from local machine for model_lr_reg\n",
    "model_output_directory = os.path.join(\"../UsedCarsPricePrediction/models_joblib\", \"model_lr_reg_ridge.joblib\")\n",
    "\n",
    "# from main.py in the current directory import the function training_lr_reg\n",
    "from main import training_lr_reg_ridge\n",
    "\n",
    "# call the function training_lr_reg and pass the train_features_data, train_labels_data, val_features_data, val_labels_data, model_output_directory\n",
    "training_lr_reg_ridge(train_features_data, train_labels_data, val_features_data, val_labels_data, model_output_directory)"
   ]
  },
  {
   "cell_type": "code",
   "execution_count": 21,
   "metadata": {},
   "outputs": [
    {
     "name": "stdout",
     "output_type": "stream",
     "text": [
      "Loading test input data\n",
      "RMSE: 11.803644404211763;\n",
      "R2: 0.8317591028087684;\n"
     ]
    }
   ],
   "source": [
    "# model_path for used_cars.csv from local machine for model_lr_reg\n",
    "model_path = f\"../UsedCarsPricePrediction/models_joblib/model_lr_reg_ridge.joblib\"\n",
    "print(\"Loading test input data\")\n",
    "# test_data_directory for used_cars.csv from local machine\n",
    "test_data_directory = \"../UsedCarsPricePrediction/datasets\"\n",
    "test_features_data = os.path.join(test_data_directory, \"test_features.csv\")\n",
    "test_labels_data = os.path.join(test_data_directory, \"test_labels.csv\")\n",
    "evaluation_output_path = os.path.join(\"../UsedCarsPricePrediction/evaluation_results_json\", \"evaluation_lr_reg_ridge.json\")\n",
    "\n",
    "# from main.py in the current directory import the function evaluation_lr_reg\n",
    "from main import evaluation_lr_reg_ridge\n",
    "\n",
    "# call the function evaluation_lr_reg and pass the model_path, test_features_data, test_labels_data, evaluation_output_path\n",
    "evaluation_lr_reg_ridge(model_path, test_features_data, test_labels_data, evaluation_output_path)"
   ]
  },
  {
   "cell_type": "code",
   "execution_count": 22,
   "metadata": {},
   "outputs": [
    {
     "name": "stdout",
     "output_type": "stream",
     "text": [
      "RMSE: 19.3793577173483;\n",
      "Training Accuracy: 0.7648688620886591\n",
      "Validation Accuracy: 0.7636768057374047\n",
      "Saving model to ../UsedCarsPricePrediction/models_joblib\\model_lr.joblib\n"
     ]
    }
   ],
   "source": [
    "# model_output_directory for used_cars.csv from local machine for model_lr\n",
    "model_output_directory = os.path.join(\"../UsedCarsPricePrediction/models_joblib\", \"model_lr.joblib\")\n",
    "\n",
    "# from main.py in the current directory import the function training_lr\n",
    "from main import training_lr\n",
    "\n",
    "# call the function training_lr and pass the train_features_data, train_labels_data, val_features_data, val_labels_data, model_output_directory\n",
    "training_lr(train_features_data, train_labels_data, val_features_data, val_labels_data, model_output_directory)"
   ]
  },
  {
   "cell_type": "code",
   "execution_count": 23,
   "metadata": {},
   "outputs": [
    {
     "name": "stdout",
     "output_type": "stream",
     "text": [
      "Loading test input data\n",
      "RMSE: 11.82246417300771;\n",
      "R2: 0.8312221874592235;\n"
     ]
    }
   ],
   "source": [
    "# model_path for used_cars.csv from local machine for model_lr\n",
    "model_path = f\"../UsedCarsPricePrediction/models_joblib/model_lr.joblib\"\n",
    "print(\"Loading test input data\")\n",
    "# test_data_directory for used_cars.csv from local machine\n",
    "test_data_directory = \"../UsedCarsPricePrediction/datasets\"\n",
    "test_features_data = os.path.join(test_data_directory, \"test_features.csv\")\n",
    "test_labels_data = os.path.join(test_data_directory, \"test_labels.csv\")\n",
    "evaluation_output_path = os.path.join(\"../UsedCarsPricePrediction/evaluation_results_json\", \"evaluation_lr.json\")\n",
    "\n",
    "# from main.py in the current directory import the function evaluation_lr\n",
    "from main import evaluation_lr\n",
    "\n",
    "# call the function evaluation_lr and pass the model_path, test_features_data, test_labels_data, evaluation_output_path\n",
    "evaluation_lr(model_path, test_features_data, test_labels_data, evaluation_output_path)"
   ]
  },
  {
   "cell_type": "code",
   "execution_count": 24,
   "metadata": {},
   "outputs": [
    {
     "name": "stdout",
     "output_type": "stream",
     "text": [
      "RMSE: 22.13644716861574;\n",
      "Training Accuracy: 0.9828503759331686\n",
      "Validation Accuracy: 0.6916503725956862\n",
      "Saving model to ../UsedCarsPricePrediction/models_joblib\\model_rfr.joblib\n"
     ]
    }
   ],
   "source": [
    "# model_output_directory for used_cars.csv from local machine for model_rfr\n",
    "model_output_directory = os.path.join(\"../UsedCarsPricePrediction/models_joblib\", \"model_rfr.joblib\")\n",
    "\n",
    "# from main.py in the current directory import the function training_rfr\n",
    "from main import training_rfr\n",
    "\n",
    "# call the function training_rfr and pass the train_features_data, train_labels_data, val_features_data, val_labels_data, model_output_directory\n",
    "training_rfr(train_features_data, train_labels_data, val_features_data, val_labels_data, model_output_directory)"
   ]
  },
  {
   "cell_type": "code",
   "execution_count": 25,
   "metadata": {},
   "outputs": [
    {
     "name": "stdout",
     "output_type": "stream",
     "text": [
      "Loading test input data\n",
      "RMSE: 7.397773727131262;\n",
      "R2: 0.9339152231492407;\n"
     ]
    }
   ],
   "source": [
    "# model_path for used_cars.csv from local machine for model_rfr\n",
    "model_path = f\"../UsedCarsPricePrediction/models_joblib/model_rfr.joblib\"\n",
    "print(\"Loading test input data\")\n",
    "# test_data_directory for used_cars.csv from local machine\n",
    "test_data_directory = \"../UsedCarsPricePrediction/datasets\"\n",
    "test_features_data = os.path.join(test_data_directory,\"test_features.csv\")\n",
    "test_labels_data = os.path.join(test_data_directory,\"test_labels.csv\")\n",
    "evaluation_output_path = os.path.join(\"../UsedCarsPricePrediction/evaluation_results_json\", \"evaluation_rfr.json\")\n",
    "\n",
    "# from main.py in the current directory import the function evaluation_rfr\n",
    "from main import evaluation_rfr\n",
    "\n",
    "# call the function evaluation_rfr and pass the model_path, test_features_data, test_labels_data, evaluation_output_path\n",
    "evaluation_rfr(model_path, test_features_data, test_labels_data, evaluation_output_path)"
   ]
  },
  {
   "cell_type": "code",
   "execution_count": 26,
   "metadata": {},
   "outputs": [
    {
     "name": "stdout",
     "output_type": "stream",
     "text": [
      "RMSE: 30.072622511341212;\n",
      "Training Accuracy: 0.8333191237936458\n",
      "Validation Accuracy: 0.4309240983329129\n",
      "Saving model to ../UsedCarsPricePrediction/models_joblib\\model_svr.joblib\n"
     ]
    }
   ],
   "source": [
    "# model_output_directory for used_cars.csv from local machine for model_svr\n",
    "model_output_directory = os.path.join(\"../UsedCarsPricePrediction/models_joblib\", \"model_svr.joblib\")\n",
    "\n",
    "# from main.py in the current directory import the function training_svr\n",
    "from main import training_svr\n",
    "\n",
    "# call the function training_svr and pass the train_features_data, train_labels_data, val_features_data, val_labels_data, model_output_directory\n",
    "training_svr(train_features_data, train_labels_data, val_features_data, val_labels_data, model_output_directory)"
   ]
  },
  {
   "cell_type": "code",
   "execution_count": 27,
   "metadata": {},
   "outputs": [
    {
     "name": "stdout",
     "output_type": "stream",
     "text": [
      "Loading test input data\n",
      "RMSE: 12.686073013767935;\n",
      "R2: 0.8056637787334887;\n"
     ]
    }
   ],
   "source": [
    "# model_path for used_cars.csv from local machine for model_svr\n",
    "model_path = f\"../UsedCarsPricePrediction/models_joblib/model_svr.joblib\"\n",
    "print(\"Loading test input data\")\n",
    "# test_data_directory for used_cars.csv from local machine\n",
    "test_data_directory = \"../UsedCarsPricePrediction/datasets\"\n",
    "test_features_data =os.path.join(test_data_directory,\"test_features.csv\")\n",
    "test_labels_data = os.path.join(test_data_directory,\"test_labels.csv\")\n",
    "evaluation_output_path = os.path.join(\"../UsedCarsPricePrediction/evaluation_results_json\", \"evaluation_svr.json\")\n",
    "\n",
    "# from main.py in the current directory import the function evaluation_svr\n",
    "from main import evaluation_svr\n",
    "\n",
    "# call the function evaluation_svr and pass the model_path, test_features_data, test_labels_data, evaluation_output_path\n",
    "evaluation_svr(model_path, test_features_data, test_labels_data, evaluation_output_path)"
   ]
  },
  {
   "cell_type": "code",
   "execution_count": 28,
   "metadata": {},
   "outputs": [
    {
     "name": "stdout",
     "output_type": "stream",
     "text": [
      "RMSE: 23.07856287869712;\n",
      "Training Accuracy: 0.9999999902077813\n",
      "Validation Accuracy: 0.6648454555772869\n",
      "Saving model to ../UsedCarsPricePrediction/models_joblib\\model_xgbr.joblib\n"
     ]
    }
   ],
   "source": [
    "# model_output_directory for used_cars.csv from local machine for model_xgbr\n",
    "model_output_directory = os.path.join(\"../UsedCarsPricePrediction/models_joblib\", \"model_xgbr.joblib\")\n",
    "\n",
    "# from main.py in the current directory import the function training_xgbr\n",
    "from main import training_xgbr\n",
    "\n",
    "# call the function training_xgbr and pass the train_features_data, train_labels_data, val_features_data, val_labels_data, model_output_directory\n",
    "training_xgbr(train_features_data, train_labels_data, val_features_data, val_labels_data, model_output_directory)"
   ]
  },
  {
   "cell_type": "code",
   "execution_count": 29,
   "metadata": {},
   "outputs": [
    {
     "name": "stdout",
     "output_type": "stream",
     "text": [
      "Loading test input data\n",
      "RMSE: 8.575832266542381;\n",
      "R2: 0.9111920394058313;\n"
     ]
    }
   ],
   "source": [
    "# model_path for used_cars.csv from local machine for model_xgbr\n",
    "model_path = f\"../UsedCarsPricePrediction/models_joblib/model_xgbr.joblib\"\n",
    "print(\"Loading test input data\")\n",
    "# test_data_directory for used_cars.csv from local machine\n",
    "test_data_directory = \"../UsedCarsPricePrediction/datasets\"\n",
    "test_features_data =os.path.join(test_data_directory,\"test_features.csv\")\n",
    "test_labels_data = os.path.join(test_data_directory,\"test_labels.csv\")\n",
    "evaluation_output_path = os.path.join(\"../UsedCarsPricePrediction/evaluation_results_json\", \"evaluation_xgbr.json\")\n",
    "\n",
    "# from main.py in the current directory import the function evaluation_xgbr\n",
    "from main import evaluation_xgbr\n",
    "\n",
    "# call the function evaluation_xgbr and pass the model_path, test_features_data, test_labels_data, evaluation_output_path\n",
    "evaluation_xgbr(model_path, test_features_data, test_labels_data, evaluation_output_path)"
   ]
  },
  {
   "cell_type": "code",
   "execution_count": null,
   "metadata": {},
   "outputs": [],
   "source": []
  }
 ],
 "metadata": {
  "kernelspec": {
   "display_name": "Python 3",
   "language": "python",
   "name": "python3"
  },
  "language_info": {
   "codemirror_mode": {
    "name": "ipython",
    "version": 3
   },
   "file_extension": ".py",
   "mimetype": "text/x-python",
   "name": "python",
   "nbconvert_exporter": "python",
   "pygments_lexer": "ipython3",
   "version": "3.7.16"
  }
 },
 "nbformat": 4,
 "nbformat_minor": 2
}
